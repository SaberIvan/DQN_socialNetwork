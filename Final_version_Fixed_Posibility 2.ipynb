{
  "cells": [
    {
      "cell_type": "code",
      "execution_count": 1,
      "metadata": {
        "colab": {
          "base_uri": "https://localhost:8080/"
        },
        "id": "8ccacc7a",
        "outputId": "8e58251b-3536-4280-9ad3-7fcb4ab8b478"
      },
      "outputs": [
        {
          "output_type": "stream",
          "name": "stdout",
          "text": [
            "Mounted at /content/gdrive\n"
          ]
        }
      ],
      "source": [
        "from google.colab import drive\n",
        "drive.mount('/content/gdrive')"
      ],
      "id": "8ccacc7a"
    },
    {
      "cell_type": "code",
      "execution_count": 2,
      "metadata": {
        "colab": {
          "base_uri": "https://localhost:8080/"
        },
        "id": "4Dr5AkJd07sv",
        "outputId": "52dd99a9-8bd3-4311-9a1f-7093afb03913"
      },
      "outputs": [
        {
          "output_type": "stream",
          "name": "stdout",
          "text": [
            "/content/gdrive/MyDrive/pos\n"
          ]
        }
      ],
      "source": [
        "cd /content/gdrive/MyDrive/pos"
      ],
      "id": "4Dr5AkJd07sv"
    },
    {
      "cell_type": "code",
      "execution_count": 3,
      "metadata": {
        "id": "hB87--oe2FXW"
      },
      "outputs": [],
      "source": [
        "ls"
      ],
      "id": "hB87--oe2FXW"
    },
    {
      "cell_type": "code",
      "execution_count": 4,
      "metadata": {
        "id": "0HM_V_nC0xj5"
      },
      "outputs": [],
      "source": [
        "### Library functions\n",
        "import numpy as np\n",
        "import torch \n",
        "import torch.nn as nn\n",
        "import torch.optim as optim\n",
        "import networkx as nx\n",
        "import matplotlib.pyplot as plt\n",
        "import random \n",
        "from matplotlib import animation\n",
        "import networkx.algorithms.centrality as nx_centrality\n",
        "from collections import deque\n",
        "from matplotlib import animation\n",
        "import math"
      ],
      "id": "0HM_V_nC0xj5"
    },
    {
      "cell_type": "markdown",
      "metadata": {
        "id": "e4989bf5"
      },
      "source": [
        "# Dataset"
      ],
      "id": "e4989bf5"
    },
    {
      "cell_type": "markdown",
      "metadata": {
        "id": "1629f456"
      },
      "source": [
        "## Training dataset"
      ],
      "id": "1629f456"
    },
    {
      "cell_type": "markdown",
      "metadata": {
        "id": "991d8f7e"
      },
      "source": [
        "The global parameters of the generate_random_graph function:\n",
        "1. FAKE_DIFF_ITER: the fake nodes diffusion iteration\n",
        "2. FAKE_SEED_NUM: the initial fake seed set number\n",
        "3. NODE_NUM: the graph nodes number\n",
        "4. EDGE_NUM: the graph edges number \n",
        "5. M_INDEX: the generate graph method index"
      ],
      "id": "991d8f7e"
    },
    {
      "cell_type": "code",
      "execution_count": 5,
      "metadata": {
        "id": "128bf1c6"
      },
      "outputs": [],
      "source": [
        "def generate_random_graph(difusion_iteration, method_index,fake_seed_num, num_nodes , num_edges , probability = 0.5,m = 2, radius = None, k_nearest_neighbor = None, degree = None, seed = None):\n",
        "    random_graph = nx.Graph()\n",
        "    if method_index == 0:\n",
        "        random_graph = nx.gnm_random_graph(num_nodes, num_edges)\n",
        "\n",
        "    elif method_index == 1:\n",
        "        random_graph = nx.erdos_renyi_graph(num_nodes, probability)\n",
        "\n",
        "    elif method_index == 2:\n",
        "         # m means the edges number from the create point to existing point\n",
        "        random_graph = nx.barabasi_albert_graph(num_nodes, m)\n",
        "\n",
        "    elif method_index == 3:\n",
        "        random_graph = nx.watts_strogatz_graph(num_nodes, k_nearest_neighbor, probability)\n",
        "#     elif method_index == 4:\n",
        "#         random_graph=nx.gnc_graph(num_nodes)\n",
        "\n",
        "#     elif method_index == 4:\n",
        "#         random_graph = nx.random_geometric_graph(num_nodes, radius)   \n",
        "        \n",
        "#     elif method_index == 5:\n",
        "#         random_graph = nx.random_regular_graph(degree, num_nodes)\n",
        "\n",
        "#     elif method_index == 7:\n",
        "#         #p1 = nodes in the tree connected,  p2 = nodes in the tree body connected\n",
        "#         random_graph = nx.random_lobster(num_nodes, probability, probability)\n",
        "\n",
        "#     elif method_index == 8:\n",
        "#         p = probability # probability connected with its nearest neighbor\n",
        "#         q = probability # probability connected with other nodes\n",
        "#         random_graph = nx.newman_watts_strogatz_graph(num_nodes, p, q)\n",
        "\n",
        "#     elif method_index == 9:\n",
        "#         random_graph = nx.create_powerlaw_cluster_graph(num_nodes, k_nearest_neighbor, probability, seed=seed)\n",
        "\n",
        "#     elif method_index == 10:\n",
        "#         # A random maximal planar graph is a graph in which every possible edge that can be added without creating a cycle is included, \n",
        "#         # resulting in a planar graph with the maximum number of edges. \n",
        "#         random_graph = nx.random_maximal_planar_graph(num_nodes)\n",
        "\n",
        "#     elif method_index == 11:\n",
        "#         random_graph = nx.random_threshold_graph(num_nodes, probability)\n",
        "\n",
        "#     elif method_index == 12:\n",
        "#         random_graph = nx.create_forest_fire_graph(num_nodes, probability, probability, seed=seed)\n",
        "\n",
        "#     elif method_index == 13:\n",
        "#         k = k_nearest_neighbor # This k is different with KNN, it generates a scale-free network where new nodes are added with k initial edges\n",
        "#         random_graph = nx.extended_barabasi_albert_graph(num_nodes, k, probability)\n",
        "\n",
        "\n",
        "#     elif method_index == 15:\n",
        "#         # lollipop graph\n",
        "#         m = num_nodes // 2  # Number of nodes in the complete graph\n",
        "#         n = num_nodes - m - 1  # Number of nodes in the cycle graph\n",
        "\n",
        "#         G_complete = nx.complete_graph(m)\n",
        "#         G_cycle = nx.cycle_graph(n)\n",
        "\n",
        "#         # Connect the complete graph and cycle graph\n",
        "#         G_complete.add_edge(m-1, m)\n",
        "#         random_graph = nx.compose(G_complete, G_cycle)\n",
        "    \n",
        "    \n",
        "    for (u,v) in random_graph.edges:\n",
        "        if FIXED == True:\n",
        "            random_graph.edges[u, v][\"weight\"] = PROBABILITY\n",
        "        else:\n",
        "            random_graph.edges[u, v][\"weight\"] =  random.uniform(0,1)\n",
        "    for node in random_graph.nodes():\n",
        "        random_graph.nodes[node]['state'] = 0 # 0初始状态；1:true；2:fake\n",
        "    node_number = random_graph.number_of_nodes()\n",
        "    start_node_index = [0] *fake_seed_num\n",
        "    index_range = range(0,  node_number)\n",
        "    fake_seed_set = random.sample(index_range, fake_seed_num)\n",
        "    fake_active_nodes = fake_seed_set.copy()\n",
        "    fake_nodes_set = fake_seed_set.copy()\n",
        "    for _ in range(difusion_iteration):\n",
        "        temp_fake = []\n",
        "        for v in fake_active_nodes:\n",
        "            for nbr in random_graph.neighbors(v): \n",
        "                if random_graph.nodes[nbr]['state'] == 0 : \n",
        "                    edge_data = random_graph.get_edge_data(v, nbr)\n",
        "                    if random.uniform(0, 1) < edge_data['weight']:\n",
        "                        fake_nodes_set.append(nbr)\n",
        "                        temp_fake.append(nbr)\n",
        "                        random_graph.nodes[nbr]['state'] = 2\n",
        "        fake_active_nodes = temp_fake.copy()\n",
        "        temp_fake.clear()    \n",
        "    for node in fake_nodes_set:\n",
        "        random_graph.nodes[node]['state'] = 2\n",
        "        \n",
        "    return random_graph,fake_active_nodes,fake_seed_set,fake_nodes_set\n"
      ],
      "id": "128bf1c6"
    },
    {
      "cell_type": "markdown",
      "metadata": {
        "id": "ec9152b3"
      },
      "source": [
        "## Create and normalize test data"
      ],
      "id": "ec9152b3"
    },
    {
      "cell_type": "code",
      "execution_count": null,
      "metadata": {
        "id": "7621db03"
      },
      "outputs": [],
      "source": [
        "# !pip install scanpy"
      ],
      "id": "7621db03"
    },
    {
      "cell_type": "code",
      "execution_count": null,
      "metadata": {
        "id": "853ee652"
      },
      "outputs": [],
      "source": [
        "import scanpy as sc \n",
        "import scipy as sp\n",
        "import scipy.sparse  # call as sp.sparse\n",
        "\n",
        "# filename_ca_HepTh = r\"D:\\course (Kou Hari)\\2023 semaster 1\\COMP5703 Capstone\\data\\ca-HepTh.mtx\"\n",
        "# filename_ca_GrQc = r\"D:\\course (Kou Hari)\\2023 semaster 1\\COMP5703 Capstone\\data\\ca-GrQc.mtx\"\n",
        "# filename_tech_p2p_gnutella = r\"D:\\course (Kou Hari)\\2023 semaster 1\\COMP5703 Capstone\\data\\tech-p2p-gnutella.mtx\"\n",
        "filename_ca_HepTh = 'ca-HepTh.mtx'\n",
        "filename_ca_GrQc = 'ca-GrQc.mtx'\n",
        "filename_tech_p2p_gnutella = 'tech-p2p-gnutella.mtx'"
      ],
      "id": "853ee652"
    },
    {
      "cell_type": "code",
      "execution_count": null,
      "metadata": {
        "id": "c7f6383a"
      },
      "outputs": [],
      "source": [
        "def read_graph(filename):\n",
        "    adata = sc.read(filename)\n",
        "    G = nx.from_scipy_sparse_array(adata.X, create_using=nx.MultiGraph)\n",
        "    print(\"node number:\",G.number_of_nodes())\n",
        "    print(\"edge number:\",G.number_of_edges())\n",
        "    return G, G.number_of_nodes(), G.number_of_edges()"
      ],
      "id": "c7f6383a"
    },
    {
      "cell_type": "code",
      "execution_count": null,
      "metadata": {
        "id": "8b91f972",
        "outputId": "ac35d58f-238d-4333-9e87-83d36b14665b"
      },
      "outputs": [
        {
          "name": "stdout",
          "output_type": "stream",
          "text": [
            "node number: 9877\n",
            "edge number: 25998\n"
          ]
        }
      ],
      "source": [
        "G_ca_HepTh,N_ca_HepTh,E_ca_HepTh= read_graph(filename_ca_HepTh)"
      ],
      "id": "8b91f972"
    },
    {
      "cell_type": "code",
      "execution_count": null,
      "metadata": {
        "id": "32accfb7",
        "outputId": "cdc6c5d9-5b01-4cc5-ee05-f934a9569ac4"
      },
      "outputs": [
        {
          "name": "stdout",
          "output_type": "stream",
          "text": [
            "node number: 5242\n",
            "edge number: 14496\n"
          ]
        }
      ],
      "source": [
        "G_ca_GrQc,N_ca_GrQc,E_ca_GrQc = read_graph(filename_ca_GrQc)"
      ],
      "id": "32accfb7"
    },
    {
      "cell_type": "code",
      "execution_count": null,
      "metadata": {
        "id": "4c030b56",
        "outputId": "1943bdf9-895b-41b8-d250-883e47e0ab8e"
      },
      "outputs": [
        {
          "name": "stdout",
          "output_type": "stream",
          "text": [
            "node number: 62561\n",
            "edge number: 147878\n"
          ]
        }
      ],
      "source": [
        "G_tech_p2p_gnutella,N_tech_p2p_gnutella,E_tech_p2p_gnutella = read_graph(filename_tech_p2p_gnutella)"
      ],
      "id": "4c030b56"
    },
    {
      "cell_type": "code",
      "execution_count": 6,
      "metadata": {
        "id": "8f910e5c"
      },
      "outputs": [],
      "source": [
        "def normalization_graph(graph):\n",
        "    graph_node_number = graph.number_of_nodes()\n",
        "    graph_edge_number = graph.number_of_edges()\n",
        "    for node in graph.nodes():\n",
        "        graph.nodes[node]['state'] = 0\n",
        "    for (u,v) in graph.edges:\n",
        "        graph.edges[u,v]['weight'] = random.uniform(0,1)\n",
        "    return graph,graph_node_number,graph_edge_number"
      ],
      "id": "8f910e5c"
    },
    {
      "cell_type": "code",
      "execution_count": 7,
      "metadata": {
        "id": "c568a0cd"
      },
      "outputs": [],
      "source": [
        "def fake_nodes_diffusion(graph,fake_seed_num,iteration):\n",
        "    node_number = graph.number_of_nodes()\n",
        "    start_node_index = [0] *fake_seed_num\n",
        "    index_range = range(0,  node_number)\n",
        "    fake_seed_set = random.sample(index_range, fake_seed_num)\n",
        "    fake_active_nodes = fake_seed_set.copy()\n",
        "    fake_nodes_set = fake_seed_set.copy()\n",
        "    for node in fake_seed_set:\n",
        "        graph.nodes[node]['state'] = 2\n",
        "    #fake news diffusion\n",
        "    for _ in range(iteration):\n",
        "        temp_fake = []\n",
        "        for v in fake_active_nodes:\n",
        "            for nbr in graph.neighbors(v): \n",
        "                if graph.nodes[nbr]['state'] == 0 : \n",
        "                    edge_data = graph.get_edge_data(v, nbr)\n",
        "                    if random.uniform(0, 1) < edge_data['weight']:\n",
        "                        fake_nodes_set.append(nbr)\n",
        "                        temp_fake.append(nbr)\n",
        "                        graph.nodes[nbr]['state'] = 2\n",
        "        fake_active_nodes = temp_fake.copy()  \n",
        "    for node in fake_nodes_set:\n",
        "        random_graph.nodes[node]['state'] = 2\n",
        "    return graph,fake_active_nodes"
      ],
      "id": "c568a0cd"
    },
    {
      "cell_type": "code",
      "execution_count": 8,
      "metadata": {
        "id": "10525014"
      },
      "outputs": [],
      "source": [
        "def statistic_draw_graph(Graph,draw = False):\n",
        "    color_list = []\n",
        "    fake = 0\n",
        "    true = 0\n",
        "    normal = 0\n",
        "    for node in Graph.nodes():\n",
        "        if Graph.nodes[node]['state'] == 0:\n",
        "            normal += 1\n",
        "            color_list.append('blue')\n",
        "        elif Graph.nodes[node]['state'] == 1:\n",
        "            true += 1\n",
        "            color_list.append('green')\n",
        "        elif Graph.nodes[node]['state'] == 2:\n",
        "            fake += 1\n",
        "            color_list.append('red')\n",
        "    print(\"normal nodes number:\",normal)\n",
        "    print(\"true nodes number:\",true)\n",
        "    print(\"fake nodes number:\",fake)\n",
        "    print(\"the edge of graph:\",Graph.number_of_edges())\n",
        "    #nx.draw(Graph, node_color= color_list) \n",
        "    if draw:\n",
        "        nx.draw_circular(Graph, node_color= color_list)\n",
        "        plt.show()"
      ],
      "id": "10525014"
    },
    {
      "cell_type": "markdown",
      "metadata": {
        "id": "f18455cb"
      },
      "source": [
        "# Environment Class"
      ],
      "id": "f18455cb"
    },
    {
      "cell_type": "markdown",
      "metadata": {
        "id": "d374128b"
      },
      "source": [
        "The global parameters in the Environment Class:\n",
        "1. ITERATION: control the diffusion times during the true and fake nodes antagonistic process\n",
        "2. MAX_STEP: control the max step of this epoch\n",
        "3. SEED_SIZE: the initial size of the seed set, the initial parameters of Env class."
      ],
      "id": "d374128b"
    },
    {
      "cell_type": "markdown",
      "metadata": {
        "id": "4538ecf0"
      },
      "source": [
        "The input variable of the Env() class:\n",
        "1. graph: the training graph or testing graph\n",
        "2. seed_size: SEED_SIZE;the initial size of the seed set\n",
        "3. fake_set: the initial fake"
      ],
      "id": "4538ecf0"
    },
    {
      "cell_type": "markdown",
      "metadata": {
        "id": "51f0906a"
      },
      "source": [
        "The functions in the Env class:\n",
        "1. reset: reset the parameters\n",
        "2. step: the experiment excuation progress\n",
        "3. select_initial_seeds: select the initial seed randomly\n",
        "4. select_initial_seeds_rules: select the intial seed set according to different criterion\n",
        "5. add_seed: add the seed nodes according to the action number from the agent\n",
        "6. get_state: get the current state of the graph\n",
        "7. diffusion_process: the procees of the true and fake nodes antagonistic\n",
        "8. get_image: draw the image of the graph"
      ],
      "id": "51f0906a"
    },
    {
      "cell_type": "code",
      "execution_count": 9,
      "metadata": {
        "id": "f4f87db5"
      },
      "outputs": [],
      "source": [
        "class Env():\n",
        "    def __init__(self, graph,seed_size,fake_set):\n",
        "        self.graph_initial = graph\n",
        "        self.seed_size = seed_size\n",
        "        self.seed_set = []\n",
        "        self.fake_set = fake_set\n",
        "        self.state = None\n",
        "        self.reset()\n",
        "\n",
        "    def reset(self):\n",
        "        #select the seed set:\n",
        "        self.graph = self.graph_initial.copy()\n",
        "        self.step_count = 0\n",
        "        self.add_number = 0\n",
        "        self.seed_set, action = self.select_initial_seeds_rules(self.graph,self.seed_size)\n",
        "        self.true_active_nodes = self.seed_set.copy()\n",
        "        self.fake_active_nodes = self.fake_set.copy()\n",
        "        self.state = self.get_state()\n",
        "        return self.state, action\n",
        "    \n",
        "    def step(self,action):\n",
        "        count_state0 = 0\n",
        "        for node in self.graph.nodes():\n",
        "            if self.graph.nodes[node]['state'] == 0:\n",
        "                count_state0 += 1\n",
        "        if action > 0 and (len(self.seed_set) + ADD_SEED_NUMBER <= self.graph.number_of_nodes()) and count_state0 >= ADD_SEED_NUMBER:\n",
        "            self.add_number += 1\n",
        "            centrality_methods = [\"None\", \"random\", \"degree\", \"closeness\", \"betweenness\", \"eigenvector\"]\n",
        "            centrality_method = centrality_methods[action]\n",
        "            self.seed_set = self.add_seed(self.graph,self.seed_set,action,ADD_SEED_NUMBER)\n",
        "            if(self.true_active_nodes[-ADD_SEED_NUMBER:]!= self.seed_set[-ADD_SEED_NUMBER:]):\n",
        "                self.true_active_nodes.extend(self.seed_set[-ADD_SEED_NUMBER:])\n",
        "        self.graph,self.true_active_nodes,self.fake_active_nodes = self.diffusion_process(self.graph,\n",
        "                                                                                     self.true_active_nodes,\n",
        "                                                                               self.fake_active_nodes,ITERATION)\n",
        "        #print(\"current image:\")\n",
        "        #self.get_image(self.graph)\n",
        "        \n",
        "        # terminal condition                                                                    \n",
        "        all_true_nodes = []\n",
        "        all_fake_nodes = []\n",
        "        normal_nodes= []                                                                             \n",
        "        for node in self.graph.nodes():\n",
        "            if self.graph.nodes[node]['state'] == 1:\n",
        "                all_true_nodes.append(node)\n",
        "            elif self.graph.nodes[node]['state'] == 2:\n",
        "                all_fake_nodes.append(node)\n",
        "            elif self.graph.nodes[node]['state'] == 0:\n",
        "                normal_nodes.append(node)\n",
        "        number_nodes = len(self.graph.nodes())\n",
        "        number_true_nodes = len(all_true_nodes) \n",
        "        number_fake_nodes = len(all_fake_nodes)\n",
        "        # terminal condition: over the MAX_STEP / less 1% nodes are normal nodes\n",
        "        terminated = bool(self.step_count >= MAX_STEP \n",
        "                        or len(normal_nodes)<=0.01 * number_nodes) \n",
        "#         penatly = math.pow(1.2,self.add_number)\n",
        "#         print(\"penatly:\",penatly)\n",
        "#         print(len(all_true_nodes)  - len(all_fake_nodes))\n",
        "        penatly = math.pow(1.05,self.add_number)\n",
        "        if not terminated:\n",
        "            if len(all_true_nodes)>len(all_fake_nodes):\n",
        "                reward = (len(all_true_nodes)  - len(all_fake_nodes) - penatly + 5)/(len(all_true_nodes) + len(all_fake_nodes))\n",
        "                #print(\">:\",reward)\n",
        "            else:\n",
        "                reward = (len(all_true_nodes)  - len(all_fake_nodes) - penatly)/(len(all_true_nodes) + len(all_fake_nodes))\n",
        "                \n",
        "                #print(\"<:\",reward)\n",
        "            done = False\n",
        "            self.step_count +=1\n",
        "        else: \n",
        "            # when this iteration is end, give a little big reward.\n",
        "            reward = 30\n",
        "            done = True\n",
        "#         if not terminated:\n",
        "#             if len(all_true_nodes)>len(all_fake_nodes):\n",
        "#                 reward = (len(all_true_nodes)  - len(all_fake_nodes) - penatly )/(len(all_true_nodes) + len(all_fake_nodes))#+0.7\n",
        "#                 print(\">:\",reward)\n",
        "#             else:\n",
        "#                 reward = (len(all_true_nodes)  - len(all_fake_nodes))/(len(all_true_nodes) + len(all_fake_nodes)) #-0.5\n",
        "#                 print(\"<:\",reward)\n",
        "#             done = False\n",
        "#             self.step_count +=1\n",
        "#         else:\n",
        "#             reward = 10 +  (MAX_STEP - self.step_count) * 0.25\n",
        "#             done = True\n",
        "            \n",
        "#             self.step_count >= MAX_STEP: \n",
        "#             # when this iteration is end, give a little big reward.\n",
        "#             reward = 20\n",
        "#             done = True\n",
        "#         elif len(normal_nodes)<=0.01 * number_nodes:\n",
        "#             reward = 30\n",
        "#             done = True\n",
        "        self.state = self.get_state()\n",
        "        return self.state, reward ,done \n",
        "    # select the initial seed set randomly\n",
        "    def select_initial_seeds(self, graph, seed_number):\n",
        "        node_number = graph.number_of_nodes()\n",
        "        start_node_index = [0] *seed_number\n",
        "        index_range = range(0,  node_number)\n",
        "        start_node_index = random.sample(index_range, seed_number)\n",
        "        for node in graph.nodes():\n",
        "            if node in start_node_index:\n",
        "                graph.nodes[node]['state'] = 1\n",
        "        return start_node_index\n",
        "    # select the initial seed set according to different rules\n",
        "    def select_initial_seeds_rules(self,graph,seed_number):\n",
        "        # 1 random 2 \"degree\",3 \"closeness\", 4\"betweenness\", 5\"eigenvector\"\n",
        "        action = random.randint(0,5)\n",
        "        start_node_index = []\n",
        "        centrality_scores = []\n",
        "        if action == 0:   \n",
        "            node_number = graph.number_of_nodes()\n",
        "            start_node_index = [0] *seed_number\n",
        "            index_range = range(0,  node_number)\n",
        "            start_node_index = random.sample(index_range, seed_number)\n",
        "        else:\n",
        "            if action == 1:\n",
        "                centrality_scores  = list(nx_centrality.degree_centrality(self.graph).values())\n",
        "            elif action == 2:\n",
        "                centrality_scores  = list(nx_centrality.degree_centrality(self.graph).values())\n",
        "            elif action == 3:\n",
        "                centrality_scores = list(nx_centrality.closeness_centrality(self.graph).values())\n",
        "            elif action == 4:\n",
        "                centrality_scores = list(nx_centrality.betweenness_centrality(self.graph).values())\n",
        "            elif action == 5:\n",
        "                centrality_scores = list(nx_centrality.eigenvector_centrality(self.graph).values())\n",
        "            for _ in range(seed_number):\n",
        "                max_number = max(centrality_scores)\n",
        "                index = centrality_scores.index(max_number)\n",
        "                while(graph.nodes[index]['state'] != 0):\n",
        "                    centrality_scores[index] = -1\n",
        "                    max_number = max(centrality_scores)\n",
        "                    index = centrality_scores.index(max_number)  \n",
        "                start_node_index.append(index)\n",
        "                centrality_scores[index] = -1\n",
        "        for node in graph.nodes():\n",
        "            if node in start_node_index:\n",
        "                graph.nodes[node]['state'] = 1\n",
        "        return start_node_index,action\n",
        "        \n",
        "    def add_seed(self,graph,seed_set,action,add_number):\n",
        "        # 1 random 2 \"degree\",3 \"closeness\", 4\"betweenness\", 5\"eigenvector\"\n",
        "        new_seed_set = []\n",
        "        new_seed_set = seed_set.copy()\n",
        "        centrality_scores = []\n",
        "        state0 = 0\n",
        "        for node in graph.nodes():\n",
        "            if graph.nodes[node]['state'] == 0:\n",
        "                state0 += 1\n",
        "        if state0 >= ADD_SEED_NUMBER:\n",
        "            if action == 1:\n",
        "                node_number = graph.number_of_nodes()\n",
        "                for _ in range(ADD_SEED_NUMBER):\n",
        "                    index = random.randint(0,node_number-1)\n",
        "                    while (index in seed_set) or (graph.nodes[index]['state'] in [1,2])  :\n",
        "                        index = random.randint(0,node_number-1)\n",
        "                    new_seed_set.append(index)\n",
        "                    graph.nodes[index]['state']  = 1\n",
        "\n",
        "            else: \n",
        "                if action == 2:\n",
        "                    centrality_scores  = list(nx_centrality.degree_centrality(self.graph).values())\n",
        "                elif action == 3:\n",
        "                    centrality_scores = list(nx_centrality.closeness_centrality(self.graph).values())\n",
        "                elif action == 4:\n",
        "                    centrality_scores = list(nx_centrality.betweenness_centrality(self.graph).values())\n",
        "                elif action == 5:\n",
        "                    centrality_scores = list(nx_centrality.eigenvector_centrality(self.graph).values())\n",
        "                for node in seed_set:\n",
        "                    centrality_scores[node] = -1\n",
        "                for _ in range(ADD_SEED_NUMBER):\n",
        "                    index = centrality_scores.index(max(centrality_scores))\n",
        "                    while(graph.nodes[index]['state'] != 0):\n",
        "                        index = centrality_scores.index(max(centrality_scores))\n",
        "                        # print(index)\n",
        "                        centrality_scores[index] = -1\n",
        "                    # print(\"add_seed, index:\",index)\n",
        "                    new_seed_set.append(index)\n",
        "                    graph.nodes[index]['state'] = 1\n",
        "                    centrality_scores[index] = -1\n",
        "        return new_seed_set\n",
        "    def get_state(self):\n",
        "        node_state = []\n",
        "        for node in self.graph.nodes():\n",
        "            node_state.append(self.graph.nodes[node]['state'])\n",
        "        return nx.to_numpy_array(self.graph), len(self.seed_set), node_state\n",
        "    \n",
        "    def diffusion_process(self, G ,true_active_set,fake_active_set,itertaion):\n",
        "        G = self.graph.copy()\n",
        "        true_active_nodes = true_active_set.copy()\n",
        "        fake_active_nodes = fake_active_set.copy()\n",
        "        # print(\"true_active_nodes begin:\",true_active_nodes)\n",
        "        # print(\"fake_active_nodes begin:\",fake_active_nodes)\n",
        "        for _ in range(itertaion):\n",
        "            tmp_true_nodes ={}\n",
        "            for v in true_active_nodes: \n",
        "                for nbr in G.neighbors(v):\n",
        "                    if G.nodes[nbr]['state'] in [0]:\n",
        "                        edge_data = G.get_edge_data(v, nbr)\n",
        "                        random_possibility = random.uniform(0, 1)\n",
        "                        if random_possibility < edge_data['weight']:\n",
        "                            G.nodes[nbr]['state'] == 3\n",
        "                            tmp_true_nodes.update({nbr:random_possibility})\n",
        "                            true_active_set.append(nbr)\n",
        "                    else:\n",
        "                        continue\n",
        "            tmp_fake_nodes ={}\n",
        "            for v in fake_active_nodes:\n",
        "                for nbr in G.neighbors(v):\n",
        "                    if G.nodes[nbr]['state'] in [0,3]:\n",
        "                        edge_data = G.get_edge_data(v, nbr)\n",
        "                        random_possibility = random.uniform(0, 1)\n",
        "                        if random_possibility < edge_data['weight']:\n",
        "                            tmp_fake_nodes.update({nbr:random_possibility})\n",
        "                            fake_active_set.append(nbr)\n",
        "                            G.nodes[nbr]['state'] == 4\n",
        "            true_active_nodes = list(tmp_true_nodes.keys())\n",
        "            fake_active_nodes = list(tmp_fake_nodes.keys())\n",
        "            for node in tmp_true_nodes.keys():\n",
        "                if node in tmp_fake_nodes.keys() :\n",
        "                    if tmp_true_nodes.get(node) >= tmp_fake_nodes.get(node):\n",
        "                        fake_active_set.remove(node)\n",
        "                        fake_active_nodes.remove(node)\n",
        "                    elif tmp_true_nodes.get(node) < tmp_fake_nodes.get(node):\n",
        "                        true_active_set.remove(node)\n",
        "                        true_active_nodes.remove(node)\n",
        "                else:\n",
        "                    continue\n",
        "            for node in true_active_set:\n",
        "                G.nodes[node]['state'] = 1\n",
        "            for node in fake_active_set:\n",
        "                G.nodes[node]['state'] = 2\n",
        "            # print(\"true_active_nodes\",true_active_set)\n",
        "            # print(\"fake_active_nodes\",fake_active_set)\n",
        "        return G,true_active_nodes,fake_active_nodes\n",
        "\n",
        "        \n",
        "    def get_image(self,Graph):\n",
        "        color_list = []\n",
        "        for node in Graph.nodes():\n",
        "            if Graph.nodes[node]['state'] == 0:\n",
        "                color_list.append('blue')\n",
        "            elif Graph.nodes[node]['state'] == 1:\n",
        "                color_list.append('green')\n",
        "            elif Graph.nodes[node]['state'] == 2:\n",
        "                color_list.append('red')\n",
        "        #nx.draw(Graph, node_color= color_list) \n",
        "        nx.draw_circular(Graph, node_color= color_list)\n",
        "        plt.show()"
      ],
      "id": "f4f87db5"
    },
    {
      "cell_type": "markdown",
      "metadata": {
        "id": "877b70ee"
      },
      "source": [
        "# Agent"
      ],
      "id": "877b70ee"
    },
    {
      "cell_type": "markdown",
      "metadata": {
        "id": "9927aca8"
      },
      "source": [
        "##  Device: GPU/CPU\n",
        "Note:\n",
        "\n",
        "if you use Macbook with Apple M1/M2 core, please run the code in the Mac Device;\n",
        "\n",
        "if you use Windows with CUDA core, please run the code in the Windows Device;"
      ],
      "id": "9927aca8"
    },
    {
      "cell_type": "markdown",
      "metadata": {
        "id": "db0eca57"
      },
      "source": [
        "### Mac Device"
      ],
      "id": "db0eca57"
    },
    {
      "cell_type": "code",
      "execution_count": null,
      "metadata": {
        "id": "e45e7d6e"
      },
      "outputs": [],
      "source": [
        "# # # if use MAC(Apple M1/M2) please run the follow codes\n",
        "# device = torch.device(\"mps\" if torch.backends.mps.is_available() else \"cpu\")\n",
        "# print(device)"
      ],
      "id": "e45e7d6e"
    },
    {
      "cell_type": "markdown",
      "metadata": {
        "id": "2c19cb34"
      },
      "source": [
        "### Windows Device"
      ],
      "id": "2c19cb34"
    },
    {
      "cell_type": "code",
      "execution_count": 10,
      "metadata": {
        "colab": {
          "base_uri": "https://localhost:8080/"
        },
        "id": "5ee6999f",
        "outputId": "c3e9f110-a57d-403b-9a89-4408d3921f54"
      },
      "outputs": [
        {
          "output_type": "stream",
          "name": "stdout",
          "text": [
            "CUDA Available: True\n"
          ]
        }
      ],
      "source": [
        "import torch\n",
        "print(\"CUDA Available:\", torch.cuda.is_available())"
      ],
      "id": "5ee6999f"
    },
    {
      "cell_type": "code",
      "execution_count": 11,
      "metadata": {
        "colab": {
          "base_uri": "https://localhost:8080/"
        },
        "id": "6f60eae6",
        "outputId": "54128343-bcdf-4447-a4d5-e0e0281cd6b3"
      },
      "outputs": [
        {
          "output_type": "stream",
          "name": "stdout",
          "text": [
            "GPU Device Name: NVIDIA A100-SXM4-40GB\n"
          ]
        }
      ],
      "source": [
        "if torch.cuda.is_available():\n",
        "    device_name = torch.cuda.get_device_name()\n",
        "    print(\"GPU Device Name:\", device_name)"
      ],
      "id": "6f60eae6"
    },
    {
      "cell_type": "code",
      "execution_count": 12,
      "metadata": {
        "colab": {
          "base_uri": "https://localhost:8080/"
        },
        "id": "7849d7a7",
        "outputId": "5e5a455c-328d-49ae-9d28-30e8010dce67"
      },
      "outputs": [
        {
          "output_type": "stream",
          "name": "stdout",
          "text": [
            "cuDNN Available\n"
          ]
        }
      ],
      "source": [
        "if torch.backends.cudnn.is_available():\n",
        "    print(\"cuDNN Available\")"
      ],
      "id": "7849d7a7"
    },
    {
      "cell_type": "code",
      "execution_count": 13,
      "metadata": {
        "colab": {
          "base_uri": "https://localhost:8080/"
        },
        "id": "79d0e1b8",
        "outputId": "93de8997-6227-4522-987f-6dfb49b94475"
      },
      "outputs": [
        {
          "output_type": "stream",
          "name": "stdout",
          "text": [
            "cuda\n"
          ]
        }
      ],
      "source": [
        "# if use CUDA please run the follow codes\n",
        "device = torch.device(\"cuda\" if torch.cuda.is_available() else \"cpu\")\n",
        "print(device)"
      ],
      "id": "79d0e1b8"
    },
    {
      "cell_type": "markdown",
      "metadata": {
        "id": "672ca8d9"
      },
      "source": [
        "## DQN Agent"
      ],
      "id": "672ca8d9"
    },
    {
      "cell_type": "markdown",
      "metadata": {
        "id": "f2821ae4"
      },
      "source": [
        "The input variable of the DQNAgent() class link to the global parameters:\n",
        "1. state_dim: STATE_DIM; Dimension of state\n",
        "2. action_dim: ACT_DIM; Dimension of action space \n",
        "3. learning_rate: LR;\n",
        "4. gamma: GAMMA\n",
        "5. epsilon: EPSILON\n",
        "6. epsilon_decay: EPSILON_DECAY"
      ],
      "id": "f2821ae4"
    },
    {
      "cell_type": "code",
      "execution_count": 14,
      "metadata": {
        "id": "7015c2e3"
      },
      "outputs": [],
      "source": [
        "class DQNAgent:\n",
        "    def __init__(self, state_dim, action_dim, learning_rate, gamma, epsilon, epsilon_decay):\n",
        "        self.q_network = QNetwork(state_dim, action_dim).to(device)\n",
        "        self.target_network = QNetwork(state_dim, action_dim).to(device)\n",
        "        self.optimizer = optim.Adam(self.q_network.parameters(), lr=learning_rate)\n",
        "        self.loss_fn = nn.MSELoss()\n",
        "        self.gamma = gamma\n",
        "        self.epsilon = epsilon\n",
        "        self.epsilon_decay = epsilon_decay\n",
        "        self.memory = deque(maxlen=10000)\n",
        "\n",
        "    def get_action(self, state):\n",
        "        if np.random.rand() < self.epsilon:\n",
        "            return np.random.randint(0, action_dim)\n",
        "        else:\n",
        "            state = torch.tensor(state, dtype=torch.float32).to(device)\n",
        "            q_values = self.q_network(state)\n",
        "#           q_values = self.q_network(torch.tensor(state, dtype=torch.float32))\n",
        "            return torch.argmax(q_values.cpu()).item()\n",
        "\n",
        "    def remember(self, state, action, reward, next_state, done):\n",
        "        #state = torch.tensor(state).float().unsqueeze(0)  # ensure state is a tensor\n",
        "        self.memory.append((state, action, reward, next_state, done))\n",
        "\n",
        "    def train(self, batch_size):\n",
        "        if len(self.memory) < batch_size:\n",
        "            return\n",
        "        minibatch = random.sample(self.memory, batch_size)\n",
        "\n",
        "        for state, action, reward, next_state, done in minibatch:\n",
        "            #print(\"next_state:\", next_state)\n",
        "            #state = torch.tensor(state, dtype=torch.float32).to(device)\n",
        "            state_tensor = state_to_tensor(state).to(device)\n",
        "            #print(state_tensor.shape)\n",
        "            #print(self.q_network(state_tensor).shape)\n",
        "            action_index = torch.tensor(action, dtype=torch.long)\n",
        "            target = self.q_network(state_tensor)[0, action_index]\n",
        "            #target = self.q_network(state_tensor)[action]\n",
        "            if done:\n",
        "                target_value = reward\n",
        "            else:\n",
        "                next_state_tensor = state_to_tensor(next_state).to(device)\n",
        "                #next_state = torch.tensor(next_state, dtype=torch.float32).to(device)\n",
        "                next_q_values = self.target_network(next_state_tensor).detach()\n",
        "                target_value = reward + self.gamma * torch.max(next_q_values).item()\n",
        "\n",
        "            #loss = self.loss_fn(target, torch.tensor(float(target_value)))\n",
        "            loss = self.loss_fn(target, torch.tensor(float(target_value)).to(device))\n",
        "            self.optimizer.zero_grad()\n",
        "            loss.backward()\n",
        "            self.optimizer.step()\n",
        "\n",
        "        self.epsilon *= self.epsilon_decay\n",
        "\n",
        "    def update_target_network(self):\n",
        "        self.target_network.load_state_dict(self.q_network.state_dict())\n",
        "\n",
        "    def save(self, path):\n",
        "        torch.save(self.q_network.state_dict(), path)\n",
        "\n",
        "    def load(self, path):\n",
        "        self.q_network.load_state_dict(torch.load(path))\n",
        "        self.target_network.load_state_dict(self.q_network.state_dict())"
      ],
      "id": "7015c2e3"
    },
    {
      "cell_type": "markdown",
      "metadata": {
        "id": "ea207cf5"
      },
      "source": [
        "### Transform array state to tensor state"
      ],
      "id": "ea207cf5"
    },
    {
      "cell_type": "code",
      "execution_count": 15,
      "metadata": {
        "id": "2e4c023e"
      },
      "outputs": [],
      "source": [
        "def state_to_tensor(state):\n",
        "    graph, num_seed_nodes, node_state = state\n",
        "    \n",
        "    graph_tensor = torch.tensor(graph, dtype=torch.float32).view(-1).unsqueeze(0)\n",
        "    num_seed_nodes_tensor = torch.tensor([num_seed_nodes], dtype=torch.float32).unsqueeze(0)\n",
        "    node_state_tensor = torch.tensor(node_state, dtype=torch.float32).unsqueeze(0)\n",
        "    \n",
        "#     state_tensor = torch.cat((graph_tensor, num_seed_nodes_tensor, node_state_tensor), dim=1)\n",
        "    state_tensor = torch.cat((num_seed_nodes_tensor, node_state_tensor), dim=1)\n",
        "    \n",
        "    return state_tensor"
      ],
      "id": "2e4c023e"
    },
    {
      "cell_type": "markdown",
      "metadata": {
        "id": "7dad22c0"
      },
      "source": [
        "## Neural Network"
      ],
      "id": "7dad22c0"
    },
    {
      "cell_type": "code",
      "execution_count": 16,
      "metadata": {
        "id": "3a84eb24"
      },
      "outputs": [],
      "source": [
        "class QNetwork(nn.Module):\n",
        "    def __init__(self, input_dim, output_dim):\n",
        "        super(QNetwork, self).__init__()\n",
        "        self.fc1 = nn.Linear(input_dim, 128)# (2500 + 50 + 2) (10000 + 100 + 2)\n",
        "        \n",
        "        self.fc2 = nn.Linear(128, 64)\n",
        "        self.fc3 = nn.Linear(64, output_dim)\n",
        "\n",
        "    def forward(self, x):\n",
        "        x = torch.relu(self.fc1(x))\n",
        "        x = torch.relu(self.fc2(x))\n",
        "        x = self.fc3(x)\n",
        "        return x"
      ],
      "id": "3a84eb24"
    },
    {
      "cell_type": "markdown",
      "metadata": {
        "id": "c497fb57"
      },
      "source": [
        "# Training Function\n",
        "The input valiable of train_dqn function:\n",
        "\n",
        "1. agent: the initialized Agent class\n",
        "2. env: the initialized Env class\n",
        "3. batch_size: BATCH_SIZE\n",
        "4. update_target_every: UPDATE;How many iterations to update the network\n",
        "5. dqn_agent_name: the name of DQN agent, the file extension is '.pth'\n",
        "6. brenchmark_action: Start benchmark comparison and specifying an action(1-5)\n",
        "7. Demo: Whether state should be displayed or saved each time"
      ],
      "id": "c497fb57"
    },
    {
      "cell_type": "code",
      "execution_count": 17,
      "metadata": {
        "id": "325ba526"
      },
      "outputs": [],
      "source": [
        "def train_dqn(agent, env, episodes, batch_size, update_target_every,dqn_agent_name  = None,brenchmark_action = None,Demo = False):\n",
        "    state_history= []\n",
        "    rewards_list = []\n",
        "    for episode in range(episodes):\n",
        "        state,init_action = env.reset()\n",
        "        if brenchmark_action is not None:\n",
        "            init_action = brenchmark_action\n",
        "        #print(state)\n",
        "#         state = torch.tensor(state).float().unsqueeze(0)  # ensure state is a tensor\n",
        "        total_reward = 0\n",
        "        done = False\n",
        "\n",
        "        while not done:\n",
        "            state_tensor = state_to_tensor(state)\n",
        "            #print(state_tensor)\n",
        "            if brenchmark_action is not None:\n",
        "                action = brenchmark_action\n",
        "            else:\n",
        "                action = agent.get_action(state_tensor)\n",
        "            next_state, reward, done = env.step(action)\n",
        "            #print(next_state)\n",
        "            agent.remember(state, action, reward, next_state, done)\n",
        "            agent.train(batch_size)\n",
        "            total_reward += reward\n",
        "            state = next_state\n",
        "            if Demo:\n",
        "                state_history.append(state)  # Add current state to state_history\n",
        "        if not Demo:\n",
        "            state_history.append(state)\n",
        "        rewards_list.append(total_reward)\n",
        "        if episode % update_target_every == 0:\n",
        "            agent.update_target_network()\n",
        "\n",
        "        print(f\"Episode {episode + 1}/{episodes}, Total Reward: {total_reward}\")\n",
        "#    if dqn_agent_name is not None:\n",
        "#        torch.save(agent,dqn_agent_name)\n",
        "    return state_history, rewards_list"
      ],
      "id": "325ba526"
    },
    {
      "cell_type": "markdown",
      "metadata": {
        "id": "d917ab9b"
      },
      "source": [
        "# Testing Function"
      ],
      "id": "d917ab9b"
    },
    {
      "cell_type": "code",
      "execution_count": 18,
      "metadata": {
        "id": "27ad5dd6"
      },
      "outputs": [],
      "source": [
        "def test_dqn_model(model, env, episodes):\n",
        "    rewards_list = []\n",
        "    for episode in range(episodes):\n",
        "        state,init_action = env.reset()\n",
        "        total_reward = 0\n",
        "        done = False\n",
        "\n",
        "        while not done:\n",
        "            state_tensor = state_to_tensor(state)\n",
        "            action = model.get_action(state_tensor)\n",
        "            next_state, reward, done = env.step(action)\n",
        "            total_reward += reward\n",
        "            state = next_state\n",
        "            \n",
        "        rewards_list.append(total_reward)\n",
        "\n",
        "        print(f\"Test Episode {episode + 1}/{episodes}, Total Reward: {total_reward}\")\n",
        "        \n",
        "    return rewards_list"
      ],
      "id": "27ad5dd6"
    },
    {
      "cell_type": "code",
      "execution_count": 19,
      "metadata": {
        "id": "6a8c9f84"
      },
      "outputs": [],
      "source": [
        "def test_dqn(agent, env, episodes):\n",
        "    rewards_list = []\n",
        "\n",
        "    for episode in range(episodes):\n",
        "        state,init_action = env.reset()\n",
        "        total_reward = 0\n",
        "        done = False\n",
        "\n",
        "        while not done:\n",
        "            state_tensor = state_to_tensor(state)\n",
        "            action = agent.get_action(state_tensor)\n",
        "            next_state, reward, done = env.step(action)\n",
        "            total_reward += reward\n",
        "            state = next_state\n",
        "            \n",
        "        rewards_list.append(total_reward)\n",
        "\n",
        "        print(f\"Test Episode {episode + 1}/{episodes}, Total Reward: {total_reward}\")\n",
        "        \n",
        "    return rewards_list"
      ],
      "id": "6a8c9f84"
    },
    {
      "cell_type": "markdown",
      "metadata": {
        "id": "760da568"
      },
      "source": [
        "# Display functions"
      ],
      "id": "760da568"
    },
    {
      "cell_type": "markdown",
      "metadata": {
        "id": "395d3e63"
      },
      "source": [
        "## Display the training or testing process"
      ],
      "id": "395d3e63"
    },
    {
      "cell_type": "code",
      "execution_count": 20,
      "metadata": {
        "id": "71dfcf4e"
      },
      "outputs": [],
      "source": [
        "import matplotlib.pyplot as plt\n",
        "from matplotlib import animation"
      ],
      "id": "71dfcf4e"
    },
    {
      "cell_type": "code",
      "execution_count": 21,
      "metadata": {
        "id": "8bde6986"
      },
      "outputs": [],
      "source": [
        "def state2graph(state):\n",
        "    graph = nx.from_numpy_array(state[0])\n",
        "    #print(graph.nodes())\n",
        "    for node in graph.nodes():\n",
        "        graph.nodes[node]['state'] = state[2][node]\n",
        "    return graph"
      ],
      "id": "8bde6986"
    },
    {
      "cell_type": "code",
      "execution_count": 22,
      "metadata": {
        "id": "c2773dde"
      },
      "outputs": [],
      "source": [
        "def create_color_list(graph):\n",
        "    color_list = []\n",
        "    #create color list\n",
        "    #print(graph)\n",
        "    for node in graph.nodes():\n",
        "        if graph.nodes[node]['state'] == 0:\n",
        "            color_list.append('blue')\n",
        "        elif graph.nodes[node]['state'] == 1:\n",
        "            color_list.append('green')\n",
        "        elif graph.nodes[node]['state'] == 2:\n",
        "            color_list.append('red')\n",
        "    return color_list"
      ],
      "id": "c2773dde"
    },
    {
      "cell_type": "code",
      "execution_count": 23,
      "metadata": {
        "id": "567079d3"
      },
      "outputs": [],
      "source": [
        "def define_pos(state):\n",
        "    graph = nx.from_numpy_array(state[0])\n",
        "    position = spring_layout(graph)\n",
        "    position = nx.circular_layout(graph)   \n",
        "    return position"
      ],
      "id": "567079d3"
    },
    {
      "cell_type": "code",
      "execution_count": 24,
      "metadata": {
        "id": "a05f3079"
      },
      "outputs": [],
      "source": [
        "def display(state):\n",
        "    fig, ax = plt.subplots()\n",
        "    graph = state2graph(state[0])\n",
        "    pos = define_pos(state[0])\n",
        "    color_list = create_color_list(graph)\n",
        "    nx.draw(graph, pos, node_color= color_list)\n",
        "    \n",
        "    def animate(frame):\n",
        "        ax.clear()\n",
        "        #print(\"frame,\",frame)\n",
        "        #print(state[frame])\n",
        "        graph = state2graph(state[frame])\n",
        "        color_list = create_color_list(graph)\n",
        "        nx.draw(graph, pos, node_color= color_list)\n",
        "    anim = animation.FuncAnimation(fig, animate, frames=len(state), interval=200)\n",
        "    anim.save('train.gif', writer='PillowWriter')\n",
        "    anim.save(\"train.mp4\",writer='ffmpeg')\n",
        "    \n",
        "    plt.show()"
      ],
      "id": "a05f3079"
    },
    {
      "cell_type": "markdown",
      "metadata": {
        "id": "1aa43bda"
      },
      "source": [
        "## Show the change of reward"
      ],
      "id": "1aa43bda"
    },
    {
      "cell_type": "code",
      "execution_count": 25,
      "metadata": {
        "id": "c31540bd"
      },
      "outputs": [],
      "source": [
        "def reward_image(rewards_list):\n",
        "    x = range(1,ALL_EPISODES+1)\n",
        "    print(x)\n",
        "    plt.plot(x,rewards_list,'s-')\n",
        "    plt.xlabel(\"Iteration\")\n",
        "    plt.ylabel(\"Total reward\")\n",
        "    plt.show()"
      ],
      "id": "c31540bd"
    },
    {
      "cell_type": "markdown",
      "metadata": {
        "id": "abb7d331"
      },
      "source": [
        "# Global parameters"
      ],
      "id": "abb7d331"
    },
    {
      "cell_type": "code",
      "execution_count": 26,
      "metadata": {
        "id": "646becd8"
      },
      "outputs": [],
      "source": [
        "# the Global parameter of generate_random_graph\n",
        "FAKE_DIFF_ITER = 1 # the fake nodes diffusion iteration\n",
        "FAKE_SEED_NUM = 3 # the initial fake seed set number\n",
        "NODE_NUM = 100 # the intial graph nodes number\n",
        "EDGE_NUM = 200 # the intial graph edges number\n",
        "M_INDEX = 0 # the generate graph method index\n",
        "\n",
        "# the Global parameter of Env class\n",
        "ITERATION = 1 #control the diffusion times during the true and fake nodes antagonistic process\n",
        "MAX_STEP = 40 # control the max step of this epoch\n",
        "SEED_SIZE = 10 # the initial size of the seed set, the initial parameters of Env class.\n",
        "ADD_SEED_NUMBER = 1 # the number of nodes that are added to seed set\n",
        "\n",
        "# the Global parameter of Agentclass\n",
        "state_dim = NODE_NUM + 1 #state_dim: Dimension of state\n",
        "action_dim = 6 #action_dim:  Dimension of action space\n",
        "LR = 0.001#learning_rate: \n",
        "GAMMA = 0.99 # gamma:\n",
        "EPSILON = 1.0# epsilon: \n",
        "EPSILON_DECAY = 0.995 # epsilon_decay: \n",
        "# the Global parameter of train and test function\n",
        "batch_size = 128 #batch_size: \n",
        "UPDATE = 10 #update_target_every: \n",
        "ALL_EPISODES = 200 # total number of iteration times\n",
        "\n",
        "FIXED = False"
      ],
      "id": "646becd8"
    },
    {
      "cell_type": "markdown",
      "metadata": {
        "id": "607b593d"
      },
      "source": [
        "# Experiment"
      ],
      "id": "607b593d"
    },
    {
      "cell_type": "markdown",
      "metadata": {
        "id": "770db285"
      },
      "source": [
        "# 2. Fix the probability of the edges\n",
        "0.4 - 0.8\n",
        "\n",
        "The iteration of fake news diffusion is 1\n",
        "\n",
        "NODE_NUM = 500\n",
        "\n",
        "EDGE_NUM = 1500\n",
        "\n",
        "FAKE_SEED_NUM = 5"
      ],
      "id": "770db285"
    },
    {
      "cell_type": "code",
      "execution_count": 27,
      "metadata": {
        "id": "ea5fd799"
      },
      "outputs": [],
      "source": [
        "FIXED = True"
      ],
      "id": "ea5fd799"
    },
    {
      "cell_type": "code",
      "execution_count": 28,
      "metadata": {
        "id": "8696f9ce"
      },
      "outputs": [],
      "source": [
        "# the Global parameter of generate_random_graph\n",
        "FAKE_DIFF_ITER = 1 # the fake nodes diffusion iteration\n",
        "FAKE_SEED_NUM = 5 # the initial fake seed set number\n",
        "NODE_NUM = 500 # the intial graph nodes number\n",
        "EDGE_NUM = 1500 # the intial graph edges number\n",
        "M_INDEX = 0 # the generate graph method index\n",
        "\n",
        "# the Global parameter of Env class\n",
        "ITERATION = 1 #control the diffusion times during the true and fake nodes antagonistic process\n",
        "MAX_STEP = 40 # control the max step of this epoch\n",
        "SEED_SIZE = 10 # the initial size of the seed set, the initial parameters of Env class.\n",
        "ADD_SEED_NUMBER = 1 # the number of nodes that are added to seed set\n",
        "\n",
        "# the Global parameter of Agentclass\n",
        "state_dim = NODE_NUM + 1 #state_dim: Dimension of state\n",
        "action_dim = 6 #action_dim:  Dimension of action space\n",
        "LR = 0.001#learning_rate: \n",
        "GAMMA = 0.99 # gamma:\n",
        "EPSILON = 1.0# epsilon: \n",
        "EPSILON_DECAY = 0.995 # epsilon_decay: \n",
        "# the Global parameter of train and test function\n",
        "batch_size = 128 #batch_size: \n",
        "UPDATE = 10 #update_target_every: \n",
        "ALL_EPISODES = 200 # total number of iteration times"
      ],
      "id": "8696f9ce"
    },
    {
      "cell_type": "markdown",
      "metadata": {
        "id": "8fd4b89c"
      },
      "source": [
        "### PROBABILITY =  0.4"
      ],
      "id": "8fd4b89c"
    },
    {
      "cell_type": "code",
      "execution_count": 29,
      "metadata": {
        "id": "97c5bb92"
      },
      "outputs": [],
      "source": [
        "PROBABILITY =  0.4"
      ],
      "id": "97c5bb92"
    },
    {
      "cell_type": "code",
      "execution_count": 30,
      "metadata": {
        "id": "2c3ad7ed"
      },
      "outputs": [],
      "source": [
        "intial_train_graph_04,active_fake_set_04,intial_fake_set_04,all_fake_nodes_04 = generate_random_graph(FAKE_DIFF_ITER,M_INDEX,FAKE_SEED_NUM,NODE_NUM, EDGE_NUM )"
      ],
      "id": "2c3ad7ed"
    },
    {
      "cell_type": "code",
      "execution_count": 31,
      "metadata": {
        "colab": {
          "base_uri": "https://localhost:8080/"
        },
        "id": "d1417635",
        "outputId": "a1bc8d10-a505-4d39-de2a-09c0627c6bd2"
      },
      "outputs": [
        {
          "output_type": "stream",
          "name": "stdout",
          "text": [
            "normal nodes number: 483\n",
            "true nodes number: 0\n",
            "fake nodes number: 17\n",
            "the edge of graph: 1500\n"
          ]
        }
      ],
      "source": [
        "statistic_draw_graph(intial_train_graph_04)"
      ],
      "id": "d1417635"
    },
    {
      "cell_type": "code",
      "execution_count": 32,
      "metadata": {
        "colab": {
          "base_uri": "https://localhost:8080/"
        },
        "id": "47bd8252",
        "outputId": "2b356f90-0f1e-47d1-81d3-dcfd60a99c7c"
      },
      "outputs": [
        {
          "output_type": "stream",
          "name": "stdout",
          "text": [
            "6\n"
          ]
        }
      ],
      "source": [
        "SEED_SIZE = int((FAKE_DIFF_ITER/(FAKE_DIFF_ITER+1))*len(active_fake_set_04))\n",
        "print(SEED_SIZE)"
      ],
      "id": "47bd8252"
    },
    {
      "cell_type": "code",
      "execution_count": 33,
      "metadata": {
        "id": "4119cf21"
      },
      "outputs": [],
      "source": [
        "env_04 = Env(intial_train_graph_04, SEED_SIZE,active_fake_set_04)"
      ],
      "id": "4119cf21"
    },
    {
      "cell_type": "code",
      "execution_count": 34,
      "metadata": {
        "id": "b5e6dc8c"
      },
      "outputs": [],
      "source": [
        "agent_04 = DQNAgent(state_dim, action_dim, LR , GAMMA, EPSILON, EPSILON_DECAY)"
      ],
      "id": "b5e6dc8c"
    },
    {
      "cell_type": "code",
      "execution_count": 35,
      "metadata": {
        "colab": {
          "base_uri": "https://localhost:8080/"
        },
        "id": "96fbb3a8",
        "outputId": "fe95588d-0e2c-4272-9c9f-951d7906e1a9"
      },
      "outputs": [
        {
          "output_type": "stream",
          "name": "stdout",
          "text": [
            "Episode 1/200, Total Reward: 35.61140384488294\n",
            "Episode 2/200, Total Reward: 35.59171603522701\n",
            "Episode 3/200, Total Reward: 24.709543466930548\n"
          ]
        },
        {
          "output_type": "stream",
          "name": "stderr",
          "text": [
            "<ipython-input-14-85c251d2ca30>:16: UserWarning: To copy construct from a tensor, it is recommended to use sourceTensor.clone().detach() or sourceTensor.clone().detach().requires_grad_(True), rather than torch.tensor(sourceTensor).\n",
            "  state = torch.tensor(state, dtype=torch.float32).to(device)\n"
          ]
        },
        {
          "output_type": "stream",
          "name": "stdout",
          "text": [
            "Episode 4/200, Total Reward: 36.71497706660863\n",
            "Episode 5/200, Total Reward: 26.244596163382216\n",
            "Episode 6/200, Total Reward: 38.871897510285606\n",
            "Episode 7/200, Total Reward: 34.489130487095295\n",
            "Episode 8/200, Total Reward: 32.92852470462942\n",
            "Episode 9/200, Total Reward: 27.111148543963914\n",
            "Episode 10/200, Total Reward: 39.501044930176285\n",
            "Episode 11/200, Total Reward: 41.0991903355142\n",
            "Episode 12/200, Total Reward: 29.02335048113851\n",
            "Episode 13/200, Total Reward: 39.8523087208068\n",
            "Episode 14/200, Total Reward: 42.78948674494733\n",
            "Episode 15/200, Total Reward: 38.84841763424581\n",
            "Episode 16/200, Total Reward: 15.175530683265125\n",
            "Episode 17/200, Total Reward: 40.76067317241254\n",
            "Episode 18/200, Total Reward: 25.37277230038576\n",
            "Episode 19/200, Total Reward: 35.11509112427558\n",
            "Episode 20/200, Total Reward: 46.31705848426253\n",
            "Episode 21/200, Total Reward: 32.81998604828572\n",
            "Episode 22/200, Total Reward: 41.77896537989591\n",
            "Episode 23/200, Total Reward: 47.61326894484185\n",
            "Episode 24/200, Total Reward: 34.840313914199776\n",
            "Episode 25/200, Total Reward: 37.36515258830791\n",
            "Episode 26/200, Total Reward: 33.9850945688551\n",
            "Episode 27/200, Total Reward: 44.56111338249367\n",
            "Episode 28/200, Total Reward: 41.54176527424715\n",
            "Episode 29/200, Total Reward: 36.065099833979325\n",
            "Episode 30/200, Total Reward: 27.427704666227484\n",
            "Episode 31/200, Total Reward: 35.2952132314278\n",
            "Episode 32/200, Total Reward: 40.283608945975075\n",
            "Episode 33/200, Total Reward: 39.825783172416116\n",
            "Episode 34/200, Total Reward: 35.87810080945405\n",
            "Episode 35/200, Total Reward: 30.789628049064145\n",
            "Episode 36/200, Total Reward: 34.39340779071607\n",
            "Episode 37/200, Total Reward: 32.630797769292336\n",
            "Episode 38/200, Total Reward: 37.22656682838539\n",
            "Episode 39/200, Total Reward: 34.78185642369616\n",
            "Episode 40/200, Total Reward: 32.940747923754735\n",
            "Episode 41/200, Total Reward: 25.029624241529884\n",
            "Episode 42/200, Total Reward: 40.19194692266028\n",
            "Episode 43/200, Total Reward: 22.0137302720585\n",
            "Episode 44/200, Total Reward: 33.67794538610658\n",
            "Episode 45/200, Total Reward: 33.64532196969522\n",
            "Episode 46/200, Total Reward: 40.74182005754233\n",
            "Episode 47/200, Total Reward: 33.21943932564363\n",
            "Episode 48/200, Total Reward: 22.328898137781785\n",
            "Episode 49/200, Total Reward: 28.344617127666822\n",
            "Episode 50/200, Total Reward: 38.4791664899685\n",
            "Episode 51/200, Total Reward: 34.05302046196553\n",
            "Episode 52/200, Total Reward: 40.91212849289106\n",
            "Episode 53/200, Total Reward: 35.43232970047127\n",
            "Episode 54/200, Total Reward: 30.806736568549415\n",
            "Episode 55/200, Total Reward: 29.215056214185605\n",
            "Episode 56/200, Total Reward: 29.750816162158976\n",
            "Episode 57/200, Total Reward: 25.553051320527867\n",
            "Episode 58/200, Total Reward: 44.301966049979825\n",
            "Episode 59/200, Total Reward: 29.06030899718087\n",
            "Episode 60/200, Total Reward: 37.400875513744815\n",
            "Episode 61/200, Total Reward: 42.17775082844842\n",
            "Episode 62/200, Total Reward: 36.92940425816919\n",
            "Episode 63/200, Total Reward: 38.31790439442801\n",
            "Episode 64/200, Total Reward: 26.333923045962408\n",
            "Episode 65/200, Total Reward: 34.44830256292113\n",
            "Episode 66/200, Total Reward: 22.174745646229894\n",
            "Episode 67/200, Total Reward: 29.2743025939086\n",
            "Episode 68/200, Total Reward: 23.14406828842268\n",
            "Episode 69/200, Total Reward: 30.261227900817676\n",
            "Episode 70/200, Total Reward: 28.43613176211646\n",
            "Episode 71/200, Total Reward: 34.91746798435517\n",
            "Episode 72/200, Total Reward: 41.33027700775702\n",
            "Episode 73/200, Total Reward: 39.27826202923602\n",
            "Episode 74/200, Total Reward: 30.408137085106432\n",
            "Episode 75/200, Total Reward: 30.242296624501485\n",
            "Episode 76/200, Total Reward: 26.843717720116125\n",
            "Episode 77/200, Total Reward: 35.25136287314594\n",
            "Episode 78/200, Total Reward: 26.39974183284881\n",
            "Episode 79/200, Total Reward: 23.339620729052292\n",
            "Episode 80/200, Total Reward: 34.84219830157585\n",
            "Episode 81/200, Total Reward: 42.91580755595962\n",
            "Episode 82/200, Total Reward: 27.68904102883472\n",
            "Episode 83/200, Total Reward: 27.31307292945865\n",
            "Episode 84/200, Total Reward: 40.93055054848934\n",
            "Episode 85/200, Total Reward: 36.88066576123567\n",
            "Episode 86/200, Total Reward: 39.50340536515327\n",
            "Episode 87/200, Total Reward: 45.95901632035375\n",
            "Episode 88/200, Total Reward: 41.645214982645804\n",
            "Episode 89/200, Total Reward: 43.02497219915952\n",
            "Episode 90/200, Total Reward: 34.8492492297805\n",
            "Episode 91/200, Total Reward: 33.4249992888492\n",
            "Episode 92/200, Total Reward: 22.348413412166522\n",
            "Episode 93/200, Total Reward: 36.12499574910319\n",
            "Episode 94/200, Total Reward: 45.97361374961616\n",
            "Episode 95/200, Total Reward: 35.613750725169545\n",
            "Episode 96/200, Total Reward: 28.69593489424863\n",
            "Episode 97/200, Total Reward: 39.70906001218353\n",
            "Episode 98/200, Total Reward: 37.62791334723125\n",
            "Episode 99/200, Total Reward: 41.357385443298014\n",
            "Episode 100/200, Total Reward: 32.30095464107658\n",
            "Episode 101/200, Total Reward: 36.168000453542966\n",
            "Episode 102/200, Total Reward: 30.557806656345388\n",
            "Episode 103/200, Total Reward: 30.986804047540957\n",
            "Episode 104/200, Total Reward: 40.089714213368445\n",
            "Episode 105/200, Total Reward: 35.33926298196921\n",
            "Episode 106/200, Total Reward: 25.93237548814499\n",
            "Episode 107/200, Total Reward: 32.90388059941532\n",
            "Episode 108/200, Total Reward: 42.27508730621236\n",
            "Episode 109/200, Total Reward: 38.51189749161657\n",
            "Episode 110/200, Total Reward: 41.94768804426578\n",
            "Episode 111/200, Total Reward: 35.26817049659606\n",
            "Episode 112/200, Total Reward: 36.84972536728203\n",
            "Episode 113/200, Total Reward: 34.0407439658277\n",
            "Episode 114/200, Total Reward: 27.24297305943889\n",
            "Episode 115/200, Total Reward: 37.23959327468718\n",
            "Episode 116/200, Total Reward: 32.23474591344659\n",
            "Episode 117/200, Total Reward: 41.563695768184296\n",
            "Episode 118/200, Total Reward: 28.38586982463951\n",
            "Episode 119/200, Total Reward: 26.326204406314357\n",
            "Episode 120/200, Total Reward: 45.872658483450984\n",
            "Episode 121/200, Total Reward: 34.26181640555586\n",
            "Episode 122/200, Total Reward: 46.4816880634354\n",
            "Episode 123/200, Total Reward: 39.006768173444236\n",
            "Episode 124/200, Total Reward: 38.95712497703295\n",
            "Episode 125/200, Total Reward: 33.64406178390374\n",
            "Episode 126/200, Total Reward: 27.725947394884148\n",
            "Episode 127/200, Total Reward: 10.489421658853683\n",
            "Episode 128/200, Total Reward: 21.546507778541667\n",
            "Episode 129/200, Total Reward: 39.91064843163756\n",
            "Episode 130/200, Total Reward: 35.30354464912918\n",
            "Episode 131/200, Total Reward: 18.578301415002834\n",
            "Episode 132/200, Total Reward: 48.06210370157176\n",
            "Episode 133/200, Total Reward: 39.21566238687286\n",
            "Episode 134/200, Total Reward: 34.573337949771876\n",
            "Episode 135/200, Total Reward: 38.48359234920865\n",
            "Episode 136/200, Total Reward: 38.80365005511946\n",
            "Episode 137/200, Total Reward: 20.562318645383165\n",
            "Episode 138/200, Total Reward: 39.10713710258967\n",
            "Episode 139/200, Total Reward: 24.313061470462458\n",
            "Episode 140/200, Total Reward: 23.272960448600777\n",
            "Episode 141/200, Total Reward: 28.885605510754626\n",
            "Episode 142/200, Total Reward: 23.90388117846667\n",
            "Episode 143/200, Total Reward: 33.669030925240776\n",
            "Episode 144/200, Total Reward: 23.786526137704342\n",
            "Episode 145/200, Total Reward: 43.50077293913119\n",
            "Episode 146/200, Total Reward: 30.341221819482975\n",
            "Episode 147/200, Total Reward: 39.40349674679991\n",
            "Episode 148/200, Total Reward: 28.22592271560851\n",
            "Episode 149/200, Total Reward: 33.72529385017767\n",
            "Episode 150/200, Total Reward: 31.42601018451765\n",
            "Episode 151/200, Total Reward: 48.40441717104589\n",
            "Episode 152/200, Total Reward: 37.243526331430466\n",
            "Episode 153/200, Total Reward: 32.84276745894477\n",
            "Episode 154/200, Total Reward: 38.904178022991694\n",
            "Episode 155/200, Total Reward: 40.598379311387774\n",
            "Episode 156/200, Total Reward: 28.99103834288077\n",
            "Episode 157/200, Total Reward: 43.4201709852659\n",
            "Episode 158/200, Total Reward: 36.54085481175805\n",
            "Episode 159/200, Total Reward: 33.49919486578113\n",
            "Episode 160/200, Total Reward: 28.24135309268285\n",
            "Episode 161/200, Total Reward: 28.572784413273364\n",
            "Episode 162/200, Total Reward: 46.1712459810566\n",
            "Episode 163/200, Total Reward: 34.69986430369311\n",
            "Episode 164/200, Total Reward: 31.442278348499155\n",
            "Episode 165/200, Total Reward: 30.126684555103193\n",
            "Episode 166/200, Total Reward: 49.42534098841038\n",
            "Episode 167/200, Total Reward: 27.86081190528925\n",
            "Episode 168/200, Total Reward: 28.88591837010406\n",
            "Episode 169/200, Total Reward: 48.25552317777068\n",
            "Episode 170/200, Total Reward: 35.34038481560903\n",
            "Episode 171/200, Total Reward: 30.179918962267994\n",
            "Episode 172/200, Total Reward: 40.908417018519536\n",
            "Episode 173/200, Total Reward: 35.150524056592054\n",
            "Episode 174/200, Total Reward: 39.882833278141874\n",
            "Episode 175/200, Total Reward: 41.762932622128275\n",
            "Episode 176/200, Total Reward: 31.171482288855\n",
            "Episode 177/200, Total Reward: 41.24687179956265\n",
            "Episode 178/200, Total Reward: 37.67535692597869\n",
            "Episode 179/200, Total Reward: 37.74506415355658\n",
            "Episode 180/200, Total Reward: 37.663838738084735\n",
            "Episode 181/200, Total Reward: 34.35685464379405\n",
            "Episode 182/200, Total Reward: 33.21844182498381\n",
            "Episode 183/200, Total Reward: 39.5016947719824\n",
            "Episode 184/200, Total Reward: 30.639144634242715\n",
            "Episode 185/200, Total Reward: 40.38400754908478\n",
            "Episode 186/200, Total Reward: 44.4418229088724\n",
            "Episode 187/200, Total Reward: 45.39146300786108\n",
            "Episode 188/200, Total Reward: 42.729023879129436\n",
            "Episode 189/200, Total Reward: 37.52369838863146\n",
            "Episode 190/200, Total Reward: 44.205972771336604\n",
            "Episode 191/200, Total Reward: 17.88346851533097\n",
            "Episode 192/200, Total Reward: 41.68006946032473\n",
            "Episode 193/200, Total Reward: 29.73605101861661\n",
            "Episode 194/200, Total Reward: 42.09195192873896\n",
            "Episode 195/200, Total Reward: 30.74817543929195\n",
            "Episode 196/200, Total Reward: 37.175868678730716\n",
            "Episode 197/200, Total Reward: 38.55600127850248\n",
            "Episode 198/200, Total Reward: 32.346470985531376\n",
            "Episode 199/200, Total Reward: 43.32250636991276\n",
            "Episode 200/200, Total Reward: 44.121434273251914\n"
          ]
        }
      ],
      "source": [
        "state_history_04, rewards_list_04 = train_dqn(agent_04, env_04, ALL_EPISODES, batch_size ,UPDATE,dqn_agent_name = \"Probability04.pth\")"
      ],
      "id": "96fbb3a8"
    },
    {
      "cell_type": "markdown",
      "metadata": {
        "id": "9393b6aa"
      },
      "source": [
        "### PROBABILITY =  0.5"
      ],
      "id": "9393b6aa"
    },
    {
      "cell_type": "code",
      "execution_count": 36,
      "metadata": {
        "id": "78e69ad5"
      },
      "outputs": [],
      "source": [
        "PROBABILITY =  0.5"
      ],
      "id": "78e69ad5"
    },
    {
      "cell_type": "code",
      "execution_count": 37,
      "metadata": {
        "id": "a3b30ada"
      },
      "outputs": [],
      "source": [
        "intial_train_graph_05,active_fake_set_05,intial_fake_set_05,all_fake_nodes_05 = generate_random_graph(FAKE_DIFF_ITER,M_INDEX,FAKE_SEED_NUM,NODE_NUM, EDGE_NUM )"
      ],
      "id": "a3b30ada"
    },
    {
      "cell_type": "code",
      "execution_count": 38,
      "metadata": {
        "id": "8e7d5c76"
      },
      "outputs": [],
      "source": [
        "# for (u,v) in intial_train_graph_05.edges:\n",
        "#     print(intial_train_graph_05.edges[u,v]['weight']) "
      ],
      "id": "8e7d5c76"
    },
    {
      "cell_type": "code",
      "execution_count": 39,
      "metadata": {
        "id": "22b321ac",
        "outputId": "4ddd5bf5-b850-4738-d60f-0a6e0fc1045c",
        "colab": {
          "base_uri": "https://localhost:8080/"
        }
      },
      "outputs": [
        {
          "output_type": "stream",
          "name": "stdout",
          "text": [
            "normal nodes number: 483\n",
            "true nodes number: 0\n",
            "fake nodes number: 17\n",
            "the edge of graph: 1500\n"
          ]
        }
      ],
      "source": [
        "statistic_draw_graph(intial_train_graph_05)"
      ],
      "id": "22b321ac"
    },
    {
      "cell_type": "code",
      "execution_count": 40,
      "metadata": {
        "id": "6e08c3ec",
        "outputId": "2c705f56-7ca6-454c-861d-28e9c843150c",
        "colab": {
          "base_uri": "https://localhost:8080/"
        }
      },
      "outputs": [
        {
          "output_type": "execute_result",
          "data": {
            "text/plain": [
              "12"
            ]
          },
          "metadata": {},
          "execution_count": 40
        }
      ],
      "source": [
        "len(active_fake_set_05)"
      ],
      "id": "6e08c3ec"
    },
    {
      "cell_type": "code",
      "execution_count": 41,
      "metadata": {
        "id": "4a38a7fe",
        "outputId": "c17f9fdd-da62-4782-b4eb-1867a2eaafca",
        "colab": {
          "base_uri": "https://localhost:8080/"
        }
      },
      "outputs": [
        {
          "output_type": "stream",
          "name": "stdout",
          "text": [
            "6\n"
          ]
        }
      ],
      "source": [
        "SEED_SIZE =SEED_SIZE = int((FAKE_DIFF_ITER/(FAKE_DIFF_ITER+1))*len(active_fake_set_05)) \n",
        "print(SEED_SIZE)"
      ],
      "id": "4a38a7fe"
    },
    {
      "cell_type": "code",
      "execution_count": 42,
      "metadata": {
        "id": "0f33930a"
      },
      "outputs": [],
      "source": [
        "env_05 = Env(intial_train_graph_05, SEED_SIZE,active_fake_set_05)"
      ],
      "id": "0f33930a"
    },
    {
      "cell_type": "code",
      "execution_count": 43,
      "metadata": {
        "id": "12b3c26b"
      },
      "outputs": [],
      "source": [
        "agent_05 = DQNAgent(state_dim, action_dim, LR , GAMMA, EPSILON, EPSILON_DECAY)"
      ],
      "id": "12b3c26b"
    },
    {
      "cell_type": "code",
      "execution_count": 44,
      "metadata": {
        "id": "8cee5914",
        "outputId": "605672e1-72a9-481a-a85f-d758609b9da6",
        "scrolled": true,
        "colab": {
          "base_uri": "https://localhost:8080/"
        }
      },
      "outputs": [
        {
          "output_type": "stream",
          "name": "stdout",
          "text": [
            "Episode 1/200, Total Reward: 30.680325154241327\n",
            "Episode 2/200, Total Reward: 29.33118658628404\n",
            "Episode 3/200, Total Reward: 28.014107705238057\n",
            "Episode 4/200, Total Reward: 27.236118436536664\n"
          ]
        },
        {
          "output_type": "stream",
          "name": "stderr",
          "text": [
            "<ipython-input-14-85c251d2ca30>:16: UserWarning: To copy construct from a tensor, it is recommended to use sourceTensor.clone().detach() or sourceTensor.clone().detach().requires_grad_(True), rather than torch.tensor(sourceTensor).\n",
            "  state = torch.tensor(state, dtype=torch.float32).to(device)\n"
          ]
        },
        {
          "output_type": "stream",
          "name": "stdout",
          "text": [
            "Episode 5/200, Total Reward: 31.85865942153445\n",
            "Episode 6/200, Total Reward: 29.80393595553644\n",
            "Episode 7/200, Total Reward: 33.47453968029823\n",
            "Episode 8/200, Total Reward: 27.653971569803296\n",
            "Episode 9/200, Total Reward: 38.4140255256482\n",
            "Episode 10/200, Total Reward: 35.05683263076344\n",
            "Episode 11/200, Total Reward: 29.850679767927993\n",
            "Episode 12/200, Total Reward: 28.184413381732767\n",
            "Episode 13/200, Total Reward: 27.15319712318627\n",
            "Episode 14/200, Total Reward: 35.82711314695965\n",
            "Episode 15/200, Total Reward: 34.921250675365236\n",
            "Episode 16/200, Total Reward: 37.12290254817246\n",
            "Episode 17/200, Total Reward: 32.44115013070327\n",
            "Episode 18/200, Total Reward: 31.837648744949135\n",
            "Episode 19/200, Total Reward: 25.285950583037835\n",
            "Episode 20/200, Total Reward: 30.96139789046466\n",
            "Episode 21/200, Total Reward: 29.434904784968086\n",
            "Episode 22/200, Total Reward: 33.62617994479959\n",
            "Episode 23/200, Total Reward: 29.412329144664874\n",
            "Episode 24/200, Total Reward: 30.729326030641264\n",
            "Episode 25/200, Total Reward: 36.786463589677304\n",
            "Episode 26/200, Total Reward: 31.3890461517154\n",
            "Episode 27/200, Total Reward: 34.68050758097547\n",
            "Episode 28/200, Total Reward: 28.173646686050425\n",
            "Episode 29/200, Total Reward: 29.83222975338197\n",
            "Episode 30/200, Total Reward: 22.929151883018708\n",
            "Episode 31/200, Total Reward: 32.283320265522114\n",
            "Episode 32/200, Total Reward: 30.809772697942172\n",
            "Episode 33/200, Total Reward: 34.55737398092203\n",
            "Episode 34/200, Total Reward: 30.756461598785197\n",
            "Episode 35/200, Total Reward: 24.48318093190965\n",
            "Episode 36/200, Total Reward: 32.6696756445372\n",
            "Episode 37/200, Total Reward: 31.77085437900416\n",
            "Episode 38/200, Total Reward: 28.443593286064825\n",
            "Episode 39/200, Total Reward: 30.061053459232184\n",
            "Episode 40/200, Total Reward: 35.53623091566503\n",
            "Episode 41/200, Total Reward: 29.043963445272542\n",
            "Episode 42/200, Total Reward: 31.23103224392782\n",
            "Episode 43/200, Total Reward: 32.324247158461965\n",
            "Episode 44/200, Total Reward: 33.600311202159155\n",
            "Episode 45/200, Total Reward: 36.93800226171927\n",
            "Episode 46/200, Total Reward: 34.181885183191596\n",
            "Episode 47/200, Total Reward: 32.36044938753016\n",
            "Episode 48/200, Total Reward: 28.015581843528416\n",
            "Episode 49/200, Total Reward: 27.493852349704557\n",
            "Episode 50/200, Total Reward: 35.47986417392409\n",
            "Episode 51/200, Total Reward: 31.903211228778982\n",
            "Episode 52/200, Total Reward: 32.904564410328575\n",
            "Episode 53/200, Total Reward: 40.61140965623787\n",
            "Episode 54/200, Total Reward: 29.008503748428204\n",
            "Episode 55/200, Total Reward: 35.73355053170052\n",
            "Episode 56/200, Total Reward: 29.590293879086392\n",
            "Episode 57/200, Total Reward: 31.23137516532318\n",
            "Episode 58/200, Total Reward: 32.61602373008644\n",
            "Episode 59/200, Total Reward: 30.191600304619357\n",
            "Episode 60/200, Total Reward: 33.17388702300648\n",
            "Episode 61/200, Total Reward: 26.30600008831641\n",
            "Episode 62/200, Total Reward: 33.778598014157474\n",
            "Episode 63/200, Total Reward: 30.166128552946684\n",
            "Episode 64/200, Total Reward: 33.662262598332305\n",
            "Episode 65/200, Total Reward: 30.162182441098988\n",
            "Episode 66/200, Total Reward: 25.60613460316604\n",
            "Episode 67/200, Total Reward: 31.709319570485917\n",
            "Episode 68/200, Total Reward: 27.866009335827844\n",
            "Episode 69/200, Total Reward: 32.78707604405563\n",
            "Episode 70/200, Total Reward: 27.184915389791197\n",
            "Episode 71/200, Total Reward: 32.797958037329536\n",
            "Episode 72/200, Total Reward: 32.40227128533888\n",
            "Episode 73/200, Total Reward: 37.442450869058085\n",
            "Episode 74/200, Total Reward: 35.72636307999306\n",
            "Episode 75/200, Total Reward: 28.27542718268044\n",
            "Episode 76/200, Total Reward: 21.988487766140196\n",
            "Episode 77/200, Total Reward: 30.865848174278444\n",
            "Episode 78/200, Total Reward: 25.50186161038856\n",
            "Episode 79/200, Total Reward: 37.202468144252\n",
            "Episode 80/200, Total Reward: 27.53369078442206\n",
            "Episode 81/200, Total Reward: 31.458940303318023\n",
            "Episode 82/200, Total Reward: 26.605749642118198\n",
            "Episode 83/200, Total Reward: 27.85785634066762\n",
            "Episode 84/200, Total Reward: 31.52959476470591\n",
            "Episode 85/200, Total Reward: 27.670013688857455\n",
            "Episode 86/200, Total Reward: 23.041947444232367\n",
            "Episode 87/200, Total Reward: 27.59931051156874\n",
            "Episode 88/200, Total Reward: 32.69041939906706\n",
            "Episode 89/200, Total Reward: 32.41306691925092\n",
            "Episode 90/200, Total Reward: 39.30895444130763\n",
            "Episode 91/200, Total Reward: 31.210949598516677\n",
            "Episode 92/200, Total Reward: 33.14861829226404\n",
            "Episode 93/200, Total Reward: 37.40312249507307\n",
            "Episode 94/200, Total Reward: 34.89644963904967\n",
            "Episode 95/200, Total Reward: 40.142601286541996\n",
            "Episode 96/200, Total Reward: 32.73053268227717\n",
            "Episode 97/200, Total Reward: 32.12652717567187\n",
            "Episode 98/200, Total Reward: 31.82531507338123\n",
            "Episode 99/200, Total Reward: 23.525892243049583\n",
            "Episode 100/200, Total Reward: 21.590110898213613\n",
            "Episode 101/200, Total Reward: 29.50508160387731\n",
            "Episode 102/200, Total Reward: 29.26346433564172\n",
            "Episode 103/200, Total Reward: 29.540176143766008\n",
            "Episode 104/200, Total Reward: 33.649103085920196\n",
            "Episode 105/200, Total Reward: 30.212857201623986\n",
            "Episode 106/200, Total Reward: 23.55193782251501\n",
            "Episode 107/200, Total Reward: 35.81578291853764\n",
            "Episode 108/200, Total Reward: 32.21845205487049\n",
            "Episode 109/200, Total Reward: 31.707946423402547\n",
            "Episode 110/200, Total Reward: 29.29580210201394\n",
            "Episode 111/200, Total Reward: 28.57953333653047\n",
            "Episode 112/200, Total Reward: 23.4306625244545\n",
            "Episode 113/200, Total Reward: 32.48056187499773\n",
            "Episode 114/200, Total Reward: 30.24713126354035\n",
            "Episode 115/200, Total Reward: 29.24859142420011\n",
            "Episode 116/200, Total Reward: 32.30186778142798\n",
            "Episode 117/200, Total Reward: 34.47027569993185\n",
            "Episode 118/200, Total Reward: 35.05492754598506\n",
            "Episode 119/200, Total Reward: 30.12452623930919\n",
            "Episode 120/200, Total Reward: 35.53144937479422\n",
            "Episode 121/200, Total Reward: 23.251450529216843\n",
            "Episode 122/200, Total Reward: 37.726566356974786\n",
            "Episode 123/200, Total Reward: 26.08650268424003\n",
            "Episode 124/200, Total Reward: 26.178387505327546\n",
            "Episode 125/200, Total Reward: 25.243210178510456\n",
            "Episode 126/200, Total Reward: 30.327667056828783\n",
            "Episode 127/200, Total Reward: 36.17845401183015\n",
            "Episode 128/200, Total Reward: 28.45263975984042\n",
            "Episode 129/200, Total Reward: 31.657655415432224\n",
            "Episode 130/200, Total Reward: 36.85298934526756\n",
            "Episode 131/200, Total Reward: 32.54317998880021\n",
            "Episode 132/200, Total Reward: 22.923702886702692\n",
            "Episode 133/200, Total Reward: 33.327474219314475\n",
            "Episode 134/200, Total Reward: 24.89943214015514\n",
            "Episode 135/200, Total Reward: 37.3716630875071\n",
            "Episode 136/200, Total Reward: 31.954513234259895\n",
            "Episode 137/200, Total Reward: 24.63936654632822\n",
            "Episode 138/200, Total Reward: 31.68235753183908\n",
            "Episode 139/200, Total Reward: 31.524712192128046\n",
            "Episode 140/200, Total Reward: 19.279519856758448\n",
            "Episode 141/200, Total Reward: 37.35134005109006\n",
            "Episode 142/200, Total Reward: 31.21353460886373\n",
            "Episode 143/200, Total Reward: 28.68243302536459\n",
            "Episode 144/200, Total Reward: 41.65409040918169\n",
            "Episode 145/200, Total Reward: 30.991740042575326\n",
            "Episode 146/200, Total Reward: 30.055583025304283\n",
            "Episode 147/200, Total Reward: 31.95686463028013\n",
            "Episode 148/200, Total Reward: 31.930939005967254\n",
            "Episode 149/200, Total Reward: 28.732944547087758\n",
            "Episode 150/200, Total Reward: 30.99505778917836\n",
            "Episode 151/200, Total Reward: 32.881242140399046\n",
            "Episode 152/200, Total Reward: 27.559165858728466\n",
            "Episode 153/200, Total Reward: 33.339252186378204\n",
            "Episode 154/200, Total Reward: 21.890910529468112\n",
            "Episode 155/200, Total Reward: 23.13576163317228\n",
            "Episode 156/200, Total Reward: 33.168060567633155\n",
            "Episode 157/200, Total Reward: 41.74969498049454\n",
            "Episode 158/200, Total Reward: 34.451911707440836\n",
            "Episode 159/200, Total Reward: 33.55581975904385\n",
            "Episode 160/200, Total Reward: 36.674982223229065\n",
            "Episode 161/200, Total Reward: 32.581255580951975\n",
            "Episode 162/200, Total Reward: 40.02931143129048\n",
            "Episode 163/200, Total Reward: 23.491379670247948\n",
            "Episode 164/200, Total Reward: 29.404050312742964\n",
            "Episode 165/200, Total Reward: 26.069565513042324\n",
            "Episode 166/200, Total Reward: 28.421545684476055\n",
            "Episode 167/200, Total Reward: 30.40882785271295\n",
            "Episode 168/200, Total Reward: 26.732134661261167\n",
            "Episode 169/200, Total Reward: 36.199051534295506\n",
            "Episode 170/200, Total Reward: 29.629991609148263\n",
            "Episode 171/200, Total Reward: 36.91687307102204\n",
            "Episode 172/200, Total Reward: 33.731512132399146\n",
            "Episode 173/200, Total Reward: 32.578204013705964\n",
            "Episode 174/200, Total Reward: 37.44050812870318\n",
            "Episode 175/200, Total Reward: 34.30848701146556\n",
            "Episode 176/200, Total Reward: 34.53486989216915\n",
            "Episode 177/200, Total Reward: 31.1407985198462\n",
            "Episode 178/200, Total Reward: 35.01608519637202\n",
            "Episode 179/200, Total Reward: 35.63538627296193\n",
            "Episode 180/200, Total Reward: 32.95797460808155\n",
            "Episode 181/200, Total Reward: 36.39874031978396\n",
            "Episode 182/200, Total Reward: 22.154234610234163\n",
            "Episode 183/200, Total Reward: 29.938085175265805\n",
            "Episode 184/200, Total Reward: 35.257921704396814\n",
            "Episode 185/200, Total Reward: 31.065621163121435\n",
            "Episode 186/200, Total Reward: 28.209567511834624\n",
            "Episode 187/200, Total Reward: 34.710261694280305\n",
            "Episode 188/200, Total Reward: 30.86890539395417\n",
            "Episode 189/200, Total Reward: 34.922355071332476\n",
            "Episode 190/200, Total Reward: 33.74658014640628\n",
            "Episode 191/200, Total Reward: 33.96342006927753\n",
            "Episode 192/200, Total Reward: 28.136437064650245\n",
            "Episode 193/200, Total Reward: 37.434476166779845\n",
            "Episode 194/200, Total Reward: 28.2999956213194\n",
            "Episode 195/200, Total Reward: 29.695990008605893\n",
            "Episode 196/200, Total Reward: 29.137281962176736\n",
            "Episode 197/200, Total Reward: 31.39232736630221\n",
            "Episode 198/200, Total Reward: 26.710895772971504\n",
            "Episode 199/200, Total Reward: 32.52370397109048\n",
            "Episode 200/200, Total Reward: 30.78933144607125\n"
          ]
        }
      ],
      "source": [
        "state_history_05, rewards_list_05 = train_dqn(agent_05, env_05, ALL_EPISODES, batch_size ,UPDATE,dqn_agent_name = \"Probability05.pth\")"
      ],
      "id": "8cee5914"
    },
    {
      "cell_type": "code",
      "source": [
        "torch.save(agent_05,\"Probability05.pth\")"
      ],
      "metadata": {
        "id": "kJ77Nm8uWQ8o"
      },
      "id": "kJ77Nm8uWQ8o",
      "execution_count": null,
      "outputs": []
    },
    {
      "cell_type": "markdown",
      "metadata": {
        "id": "b0780c61"
      },
      "source": [
        "### PROBABILITY =  0.6"
      ],
      "id": "b0780c61"
    },
    {
      "cell_type": "code",
      "execution_count": 46,
      "metadata": {
        "id": "ef677550"
      },
      "outputs": [],
      "source": [
        "PROBABILITY =  0.6"
      ],
      "id": "ef677550"
    },
    {
      "cell_type": "code",
      "execution_count": 47,
      "metadata": {
        "id": "f6d93a87"
      },
      "outputs": [],
      "source": [
        "intial_train_graph_06,active_fake_set_06,intial_fake_set_06,all_fake_nodes_06 = generate_random_graph(FAKE_DIFF_ITER,M_INDEX,FAKE_SEED_NUM,NODE_NUM, EDGE_NUM )"
      ],
      "id": "f6d93a87"
    },
    {
      "cell_type": "code",
      "execution_count": 48,
      "metadata": {
        "id": "27599d8b"
      },
      "outputs": [],
      "source": [
        "# for (u,v) in intial_train_graph_06.edges:\n",
        "#     print(intial_train_graph_06.edges[u,v]['weight']) "
      ],
      "id": "27599d8b"
    },
    {
      "cell_type": "code",
      "execution_count": 49,
      "metadata": {
        "id": "81fef824",
        "outputId": "0cac6c5a-c72f-4e2c-e26a-369cd2cda6d2",
        "colab": {
          "base_uri": "https://localhost:8080/"
        }
      },
      "outputs": [
        {
          "output_type": "stream",
          "name": "stdout",
          "text": [
            "normal nodes number: 480\n",
            "true nodes number: 0\n",
            "fake nodes number: 20\n",
            "the edge of graph: 1500\n"
          ]
        }
      ],
      "source": [
        "statistic_draw_graph(intial_train_graph_06)"
      ],
      "id": "81fef824"
    },
    {
      "cell_type": "code",
      "execution_count": 50,
      "metadata": {
        "id": "ee27d8e6",
        "outputId": "5997d858-3423-43d5-c4cc-5dead469b091",
        "colab": {
          "base_uri": "https://localhost:8080/"
        }
      },
      "outputs": [
        {
          "output_type": "stream",
          "name": "stdout",
          "text": [
            "7\n"
          ]
        }
      ],
      "source": [
        "SEED_SIZE =SEED_SIZE = int((FAKE_DIFF_ITER/(FAKE_DIFF_ITER+1))*len(active_fake_set_06)) \n",
        "print(SEED_SIZE)"
      ],
      "id": "ee27d8e6"
    },
    {
      "cell_type": "code",
      "execution_count": 51,
      "metadata": {
        "id": "1d44bd4b"
      },
      "outputs": [],
      "source": [
        "env_06 = Env(intial_train_graph_06, SEED_SIZE,active_fake_set_06)"
      ],
      "id": "1d44bd4b"
    },
    {
      "cell_type": "code",
      "execution_count": 52,
      "metadata": {
        "id": "436c6e11"
      },
      "outputs": [],
      "source": [
        "agent_06 = DQNAgent(state_dim, action_dim, LR , GAMMA, EPSILON, EPSILON_DECAY)"
      ],
      "id": "436c6e11"
    },
    {
      "cell_type": "code",
      "execution_count": 53,
      "metadata": {
        "id": "b7c0061e",
        "outputId": "e4f0401a-5189-43b5-dea4-f97daa0ecc99",
        "colab": {
          "base_uri": "https://localhost:8080/"
        }
      },
      "outputs": [
        {
          "output_type": "stream",
          "name": "stdout",
          "text": [
            "Episode 1/200, Total Reward: 28.89472571408201\n",
            "Episode 2/200, Total Reward: 30.97066622296088\n",
            "Episode 3/200, Total Reward: 26.80064121252549\n",
            "Episode 4/200, Total Reward: 28.81293579951703\n",
            "Episode 5/200, Total Reward: 27.060336838290052\n",
            "Episode 6/200, Total Reward: 30.921034845334102\n",
            "Episode 7/200, Total Reward: 29.65069070104506\n",
            "Episode 8/200, Total Reward: 28.282839503000794\n",
            "Episode 9/200, Total Reward: 22.622929722045725\n"
          ]
        },
        {
          "output_type": "stream",
          "name": "stderr",
          "text": [
            "<ipython-input-14-85c251d2ca30>:16: UserWarning: To copy construct from a tensor, it is recommended to use sourceTensor.clone().detach() or sourceTensor.clone().detach().requires_grad_(True), rather than torch.tensor(sourceTensor).\n",
            "  state = torch.tensor(state, dtype=torch.float32).to(device)\n"
          ]
        },
        {
          "output_type": "stream",
          "name": "stdout",
          "text": [
            "Episode 10/200, Total Reward: 32.568363105041996\n",
            "Episode 11/200, Total Reward: 32.91953340110296\n",
            "Episode 12/200, Total Reward: 29.137503812149948\n",
            "Episode 13/200, Total Reward: 28.835362569215302\n",
            "Episode 14/200, Total Reward: 29.800187405569137\n",
            "Episode 15/200, Total Reward: 31.352919543623837\n",
            "Episode 16/200, Total Reward: 30.50812233897284\n",
            "Episode 17/200, Total Reward: 32.55355387354071\n",
            "Episode 18/200, Total Reward: 30.96228859947511\n",
            "Episode 19/200, Total Reward: 30.91314323042856\n",
            "Episode 20/200, Total Reward: 31.762306322138556\n",
            "Episode 21/200, Total Reward: 29.73060916200103\n",
            "Episode 22/200, Total Reward: 25.99892232581977\n",
            "Episode 23/200, Total Reward: 32.83594285956508\n",
            "Episode 24/200, Total Reward: 28.872756083381773\n",
            "Episode 25/200, Total Reward: 29.63339028550232\n",
            "Episode 26/200, Total Reward: 33.48108385888022\n",
            "Episode 27/200, Total Reward: 32.40013748496432\n",
            "Episode 28/200, Total Reward: 26.21910380531892\n",
            "Episode 29/200, Total Reward: 32.77136425980876\n",
            "Episode 30/200, Total Reward: 32.72440813455418\n",
            "Episode 31/200, Total Reward: 28.811373239234996\n",
            "Episode 32/200, Total Reward: 31.410208610208514\n",
            "Episode 33/200, Total Reward: 30.833815833734132\n",
            "Episode 34/200, Total Reward: 27.152612642320197\n",
            "Episode 35/200, Total Reward: 28.100457031206357\n",
            "Episode 36/200, Total Reward: 31.164717640112965\n",
            "Episode 37/200, Total Reward: 29.16130133385669\n",
            "Episode 38/200, Total Reward: 34.30728864798472\n",
            "Episode 39/200, Total Reward: 29.519142780621184\n",
            "Episode 40/200, Total Reward: 30.117826595316703\n",
            "Episode 41/200, Total Reward: 30.430671122410804\n",
            "Episode 42/200, Total Reward: 29.00817342505018\n",
            "Episode 43/200, Total Reward: 29.716504077353637\n",
            "Episode 44/200, Total Reward: 31.755894390264512\n",
            "Episode 45/200, Total Reward: 23.163823263070263\n",
            "Episode 46/200, Total Reward: 30.31245667875481\n",
            "Episode 47/200, Total Reward: 30.425912400090347\n",
            "Episode 48/200, Total Reward: 29.968466571827605\n",
            "Episode 49/200, Total Reward: 23.173974722617167\n",
            "Episode 50/200, Total Reward: 32.6550097515327\n",
            "Episode 51/200, Total Reward: 30.749091839443594\n",
            "Episode 52/200, Total Reward: 32.07006149178714\n",
            "Episode 53/200, Total Reward: 31.75676307394949\n",
            "Episode 54/200, Total Reward: 27.433450793416018\n",
            "Episode 55/200, Total Reward: 28.827508763095732\n",
            "Episode 56/200, Total Reward: 29.559523807926833\n",
            "Episode 57/200, Total Reward: 28.879339752936783\n",
            "Episode 58/200, Total Reward: 25.917880679612047\n",
            "Episode 59/200, Total Reward: 29.350564130940345\n",
            "Episode 60/200, Total Reward: 28.278627730497597\n",
            "Episode 61/200, Total Reward: 29.583249375814304\n",
            "Episode 62/200, Total Reward: 28.189285975007873\n",
            "Episode 63/200, Total Reward: 28.50870657476719\n",
            "Episode 64/200, Total Reward: 30.557191033990282\n",
            "Episode 65/200, Total Reward: 31.374588013630422\n",
            "Episode 66/200, Total Reward: 29.311934326709217\n",
            "Episode 67/200, Total Reward: 32.97787483852368\n",
            "Episode 68/200, Total Reward: 30.466594799015603\n",
            "Episode 69/200, Total Reward: 27.23098611710991\n",
            "Episode 70/200, Total Reward: 26.184228766197357\n",
            "Episode 71/200, Total Reward: 32.47388275042797\n",
            "Episode 72/200, Total Reward: 31.67294527655772\n",
            "Episode 73/200, Total Reward: 34.837871979444564\n",
            "Episode 74/200, Total Reward: 35.02062459012176\n",
            "Episode 75/200, Total Reward: 33.281485710821926\n",
            "Episode 76/200, Total Reward: 30.577558155914954\n",
            "Episode 77/200, Total Reward: 29.09069209282977\n",
            "Episode 78/200, Total Reward: 32.23332688530724\n",
            "Episode 79/200, Total Reward: 31.178340599503954\n",
            "Episode 80/200, Total Reward: 27.78468612735008\n",
            "Episode 81/200, Total Reward: 31.107371125061377\n",
            "Episode 82/200, Total Reward: 30.463442628677985\n",
            "Episode 83/200, Total Reward: 29.008833491868376\n",
            "Episode 84/200, Total Reward: 31.488780891576447\n",
            "Episode 85/200, Total Reward: 23.84090370339574\n",
            "Episode 86/200, Total Reward: 29.548190747155125\n",
            "Episode 87/200, Total Reward: 27.83242707387831\n",
            "Episode 88/200, Total Reward: 31.933996552189775\n",
            "Episode 89/200, Total Reward: 31.21610564316697\n",
            "Episode 90/200, Total Reward: 21.33169752879897\n",
            "Episode 91/200, Total Reward: 30.229290272560906\n",
            "Episode 92/200, Total Reward: 30.528812874709136\n",
            "Episode 93/200, Total Reward: 28.973993953954057\n",
            "Episode 94/200, Total Reward: 31.29166461210819\n",
            "Episode 95/200, Total Reward: 37.91535790784714\n",
            "Episode 96/200, Total Reward: 31.831926424217873\n",
            "Episode 97/200, Total Reward: 32.05618294141387\n",
            "Episode 98/200, Total Reward: 30.651315513759215\n",
            "Episode 99/200, Total Reward: 25.69497279011728\n",
            "Episode 100/200, Total Reward: 29.05295434225125\n",
            "Episode 101/200, Total Reward: 32.37538270657195\n",
            "Episode 102/200, Total Reward: 28.530038715119613\n",
            "Episode 103/200, Total Reward: 30.410852266195693\n",
            "Episode 104/200, Total Reward: 27.51788464545381\n",
            "Episode 105/200, Total Reward: 30.042183421668355\n",
            "Episode 106/200, Total Reward: 30.652628480742738\n",
            "Episode 107/200, Total Reward: 31.5424073152272\n",
            "Episode 108/200, Total Reward: 29.541132494041772\n",
            "Episode 109/200, Total Reward: 29.93353731375856\n",
            "Episode 110/200, Total Reward: 30.788721014305533\n",
            "Episode 111/200, Total Reward: 31.710761990793895\n",
            "Episode 112/200, Total Reward: 32.50001057214492\n",
            "Episode 113/200, Total Reward: 30.14729834711943\n",
            "Episode 114/200, Total Reward: 32.78662679181464\n",
            "Episode 115/200, Total Reward: 37.57360183861405\n",
            "Episode 116/200, Total Reward: 33.44758846106828\n",
            "Episode 117/200, Total Reward: 27.475485407762694\n",
            "Episode 118/200, Total Reward: 28.100710526669957\n",
            "Episode 119/200, Total Reward: 21.480969877228567\n",
            "Episode 120/200, Total Reward: 31.12535707157112\n",
            "Episode 121/200, Total Reward: 41.88721782744487\n",
            "Episode 122/200, Total Reward: 23.46189479766717\n",
            "Episode 123/200, Total Reward: 31.884833357439323\n",
            "Episode 124/200, Total Reward: 30.71937952970922\n",
            "Episode 125/200, Total Reward: 34.792960379663576\n",
            "Episode 126/200, Total Reward: 30.431807139315325\n",
            "Episode 127/200, Total Reward: 29.151608450747936\n",
            "Episode 128/200, Total Reward: 27.128869427905688\n",
            "Episode 129/200, Total Reward: 32.92824591534928\n",
            "Episode 130/200, Total Reward: 32.12139994836418\n",
            "Episode 131/200, Total Reward: 29.501242070874525\n",
            "Episode 132/200, Total Reward: 28.913451639541613\n",
            "Episode 133/200, Total Reward: 35.57707952577586\n",
            "Episode 134/200, Total Reward: 31.318027408608415\n",
            "Episode 135/200, Total Reward: 31.20448602065608\n",
            "Episode 136/200, Total Reward: 32.51419041779761\n",
            "Episode 137/200, Total Reward: 30.434484197651404\n",
            "Episode 138/200, Total Reward: 31.13608879769184\n",
            "Episode 139/200, Total Reward: 35.31602204316869\n",
            "Episode 140/200, Total Reward: 30.919827706917303\n",
            "Episode 141/200, Total Reward: 33.13521948195511\n",
            "Episode 142/200, Total Reward: 31.844657225229145\n",
            "Episode 143/200, Total Reward: 30.963648693469317\n",
            "Episode 144/200, Total Reward: 30.510517015004826\n",
            "Episode 145/200, Total Reward: 31.72779231238698\n",
            "Episode 146/200, Total Reward: 30.47791730527342\n",
            "Episode 147/200, Total Reward: 23.823147322640025\n",
            "Episode 148/200, Total Reward: 22.10819182271258\n",
            "Episode 149/200, Total Reward: 38.8313924155016\n",
            "Episode 150/200, Total Reward: 29.09566717760826\n",
            "Episode 151/200, Total Reward: 31.372557959302366\n",
            "Episode 152/200, Total Reward: 19.666378016952855\n",
            "Episode 153/200, Total Reward: 31.060068396608276\n",
            "Episode 154/200, Total Reward: 28.800066346365575\n",
            "Episode 155/200, Total Reward: 30.68338916669808\n",
            "Episode 156/200, Total Reward: 29.542753841738435\n",
            "Episode 157/200, Total Reward: 32.42620445110928\n",
            "Episode 158/200, Total Reward: 29.68079650066578\n",
            "Episode 159/200, Total Reward: 32.1585312547263\n",
            "Episode 160/200, Total Reward: 28.14134516218403\n",
            "Episode 161/200, Total Reward: 30.963916934820645\n",
            "Episode 162/200, Total Reward: 29.404602159174726\n",
            "Episode 163/200, Total Reward: 31.97387611152187\n",
            "Episode 164/200, Total Reward: 27.11657535628077\n",
            "Episode 165/200, Total Reward: 31.656796679757598\n",
            "Episode 166/200, Total Reward: 28.15314676448904\n",
            "Episode 167/200, Total Reward: 30.313060891272556\n",
            "Episode 168/200, Total Reward: 32.75279117310343\n",
            "Episode 169/200, Total Reward: 29.78464320431245\n",
            "Episode 170/200, Total Reward: 33.440341549526195\n",
            "Episode 171/200, Total Reward: 30.56241544968082\n",
            "Episode 172/200, Total Reward: 25.53732971708159\n",
            "Episode 173/200, Total Reward: 20.93678740311073\n",
            "Episode 174/200, Total Reward: 29.32211610606696\n",
            "Episode 175/200, Total Reward: 35.956083586465155\n",
            "Episode 176/200, Total Reward: 32.73721306428618\n",
            "Episode 177/200, Total Reward: 26.031467343611183\n",
            "Episode 178/200, Total Reward: 29.158491492416644\n",
            "Episode 179/200, Total Reward: 30.43610419080247\n",
            "Episode 180/200, Total Reward: 30.308998128756837\n",
            "Episode 181/200, Total Reward: 31.87819445892154\n",
            "Episode 182/200, Total Reward: 24.699029061982394\n",
            "Episode 183/200, Total Reward: 35.49198647943641\n",
            "Episode 184/200, Total Reward: 28.34901188625435\n",
            "Episode 185/200, Total Reward: 28.463176320808763\n",
            "Episode 186/200, Total Reward: 28.625462254821766\n",
            "Episode 187/200, Total Reward: 32.75289576087751\n",
            "Episode 188/200, Total Reward: 33.10377288585356\n",
            "Episode 189/200, Total Reward: 36.744831211734066\n",
            "Episode 190/200, Total Reward: 31.549156025473717\n",
            "Episode 191/200, Total Reward: 28.706767950724345\n",
            "Episode 192/200, Total Reward: 24.70932418125604\n",
            "Episode 193/200, Total Reward: 27.749621756158657\n",
            "Episode 194/200, Total Reward: 28.916844204409657\n",
            "Episode 195/200, Total Reward: 19.139098534910257\n",
            "Episode 196/200, Total Reward: 30.518258556423202\n",
            "Episode 197/200, Total Reward: 29.1180370688144\n",
            "Episode 198/200, Total Reward: 30.08730558434266\n",
            "Episode 199/200, Total Reward: 27.188099695641426\n",
            "Episode 200/200, Total Reward: 31.161934340929545\n"
          ]
        }
      ],
      "source": [
        "state_history_06, rewards_list_06 = train_dqn(agent_06, env_06, ALL_EPISODES, batch_size ,UPDATE,dqn_agent_name = \"Probability06.pth\")"
      ],
      "id": "b7c0061e"
    },
    {
      "cell_type": "code",
      "source": [
        "torch.save(agent_06,\"Probability06.pth\")"
      ],
      "metadata": {
        "id": "a9Z-LsnhZOZ-"
      },
      "id": "a9Z-LsnhZOZ-",
      "execution_count": 54,
      "outputs": []
    },
    {
      "cell_type": "markdown",
      "metadata": {
        "id": "5bc62003"
      },
      "source": [
        "### PROBABILITY =  0.7"
      ],
      "id": "5bc62003"
    },
    {
      "cell_type": "code",
      "execution_count": 55,
      "metadata": {
        "id": "d9742693"
      },
      "outputs": [],
      "source": [
        "PROBABILITY =  0.7"
      ],
      "id": "d9742693"
    },
    {
      "cell_type": "code",
      "execution_count": 56,
      "metadata": {
        "id": "58d50a9c"
      },
      "outputs": [],
      "source": [
        "intial_train_graph_07,active_fake_set_07,intial_fake_set_07,all_fake_nodes_07 = generate_random_graph(FAKE_DIFF_ITER,M_INDEX,FAKE_SEED_NUM,NODE_NUM, EDGE_NUM )"
      ],
      "id": "58d50a9c"
    },
    {
      "cell_type": "code",
      "execution_count": 57,
      "metadata": {
        "id": "96dee49c",
        "outputId": "5fac7a67-8ff2-492f-a971-51aca3361ebc",
        "colab": {
          "base_uri": "https://localhost:8080/"
        }
      },
      "outputs": [
        {
          "output_type": "stream",
          "name": "stdout",
          "text": [
            "normal nodes number: 474\n",
            "true nodes number: 0\n",
            "fake nodes number: 26\n",
            "the edge of graph: 1500\n"
          ]
        }
      ],
      "source": [
        "statistic_draw_graph(intial_train_graph_07)"
      ],
      "id": "96dee49c"
    },
    {
      "cell_type": "code",
      "execution_count": 58,
      "metadata": {
        "id": "c1741f4c",
        "outputId": "21768ca6-dd6c-4d01-d696-3f1b369bd918",
        "colab": {
          "base_uri": "https://localhost:8080/"
        }
      },
      "outputs": [
        {
          "output_type": "execute_result",
          "data": {
            "text/plain": [
              "21"
            ]
          },
          "metadata": {},
          "execution_count": 58
        }
      ],
      "source": [
        "len(active_fake_set_07)"
      ],
      "id": "c1741f4c"
    },
    {
      "cell_type": "code",
      "execution_count": 59,
      "metadata": {
        "id": "11e7a9d2",
        "outputId": "c65a80cf-0f1c-40db-c9ef-599ed81fb5de",
        "colab": {
          "base_uri": "https://localhost:8080/"
        }
      },
      "outputs": [
        {
          "output_type": "stream",
          "name": "stdout",
          "text": [
            "10\n"
          ]
        }
      ],
      "source": [
        "SEED_SIZE = int((FAKE_DIFF_ITER/(FAKE_DIFF_ITER+1))*len(active_fake_set_07)) \n",
        "print(SEED_SIZE)"
      ],
      "id": "11e7a9d2"
    },
    {
      "cell_type": "code",
      "execution_count": 60,
      "metadata": {
        "id": "367e3669"
      },
      "outputs": [],
      "source": [
        "env_07 = Env(intial_train_graph_07, SEED_SIZE,active_fake_set_07)"
      ],
      "id": "367e3669"
    },
    {
      "cell_type": "code",
      "execution_count": 61,
      "metadata": {
        "id": "16c730aa"
      },
      "outputs": [],
      "source": [
        "agent_07 = DQNAgent(state_dim, action_dim, LR , GAMMA, EPSILON, EPSILON_DECAY)"
      ],
      "id": "16c730aa"
    },
    {
      "cell_type": "code",
      "execution_count": 62,
      "metadata": {
        "id": "ea3b0a7a",
        "outputId": "4c9c8837-24a2-4fce-99b2-080453dfe16c",
        "colab": {
          "base_uri": "https://localhost:8080/"
        }
      },
      "outputs": [
        {
          "output_type": "stream",
          "name": "stdout",
          "text": [
            "Episode 1/200, Total Reward: 29.881784441385644\n",
            "Episode 2/200, Total Reward: 29.209096238246048\n",
            "Episode 3/200, Total Reward: 29.88326321593315\n",
            "Episode 4/200, Total Reward: 27.675050593492173\n",
            "Episode 5/200, Total Reward: 30.11190705106545\n",
            "Episode 6/200, Total Reward: 28.182794150709114\n",
            "Episode 7/200, Total Reward: 29.4297404039678\n",
            "Episode 8/200, Total Reward: 30.061104819711062\n",
            "Episode 9/200, Total Reward: 29.784515240072107\n",
            "Episode 10/200, Total Reward: 29.58136134558534\n",
            "Episode 11/200, Total Reward: 30.172778318979272\n",
            "Episode 12/200, Total Reward: 29.629045196011713\n",
            "Episode 13/200, Total Reward: 29.006014155842053\n",
            "Episode 14/200, Total Reward: 30.151078280316117\n",
            "Episode 15/200, Total Reward: 29.88827613808616\n",
            "Episode 16/200, Total Reward: 29.8967547716468\n",
            "Episode 17/200, Total Reward: 29.678119893820156\n",
            "Episode 18/200, Total Reward: 30.170767868532693\n",
            "Episode 19/200, Total Reward: 30.179434008925945\n",
            "Episode 20/200, Total Reward: 30.104614822277615\n",
            "Episode 21/200, Total Reward: 29.463079994258315\n"
          ]
        },
        {
          "output_type": "stream",
          "name": "stderr",
          "text": [
            "<ipython-input-14-85c251d2ca30>:16: UserWarning: To copy construct from a tensor, it is recommended to use sourceTensor.clone().detach() or sourceTensor.clone().detach().requires_grad_(True), rather than torch.tensor(sourceTensor).\n",
            "  state = torch.tensor(state, dtype=torch.float32).to(device)\n"
          ]
        },
        {
          "output_type": "stream",
          "name": "stdout",
          "text": [
            "Episode 22/200, Total Reward: 30.94202282832685\n",
            "Episode 23/200, Total Reward: 29.68990942404591\n",
            "Episode 24/200, Total Reward: 29.950328322911776\n",
            "Episode 25/200, Total Reward: 30.075489191858164\n",
            "Episode 26/200, Total Reward: 29.72922670098578\n",
            "Episode 27/200, Total Reward: 29.787845485063293\n",
            "Episode 28/200, Total Reward: 29.16236914161292\n",
            "Episode 29/200, Total Reward: 29.979575786349958\n",
            "Episode 30/200, Total Reward: 30.128358769090767\n",
            "Episode 31/200, Total Reward: 29.625749956249617\n",
            "Episode 32/200, Total Reward: 29.435607399383255\n",
            "Episode 33/200, Total Reward: 30.50834658266649\n",
            "Episode 34/200, Total Reward: 29.88219827842188\n",
            "Episode 35/200, Total Reward: 30.021134458335144\n",
            "Episode 36/200, Total Reward: 30.013405998365737\n",
            "Episode 37/200, Total Reward: 29.626630749586866\n",
            "Episode 38/200, Total Reward: 30.4225168720166\n",
            "Episode 39/200, Total Reward: 29.678491120988763\n",
            "Episode 40/200, Total Reward: 29.77781267022782\n",
            "Episode 41/200, Total Reward: 29.06719986622632\n",
            "Episode 42/200, Total Reward: 29.811003059571213\n",
            "Episode 43/200, Total Reward: 28.947929537088612\n",
            "Episode 44/200, Total Reward: 29.894498320479617\n",
            "Episode 45/200, Total Reward: 30.264238074853004\n",
            "Episode 46/200, Total Reward: 29.584820670107668\n",
            "Episode 47/200, Total Reward: 28.779389946681828\n",
            "Episode 48/200, Total Reward: 29.638656204441492\n",
            "Episode 49/200, Total Reward: 29.967270941106936\n",
            "Episode 50/200, Total Reward: 29.484404131694724\n",
            "Episode 51/200, Total Reward: 29.4369009223313\n",
            "Episode 52/200, Total Reward: 29.824860212837798\n",
            "Episode 53/200, Total Reward: 30.335500509183436\n",
            "Episode 54/200, Total Reward: 30.39596610055133\n",
            "Episode 55/200, Total Reward: 29.94877980248704\n",
            "Episode 56/200, Total Reward: 29.93006737128724\n",
            "Episode 57/200, Total Reward: 29.894127509754284\n",
            "Episode 58/200, Total Reward: 28.938338289674746\n",
            "Episode 59/200, Total Reward: 29.94413743786922\n",
            "Episode 60/200, Total Reward: 29.78421212280081\n",
            "Episode 61/200, Total Reward: 29.78722932874544\n",
            "Episode 62/200, Total Reward: 30.328820058944757\n",
            "Episode 63/200, Total Reward: 29.56398270234648\n",
            "Episode 64/200, Total Reward: 29.732807736519106\n",
            "Episode 65/200, Total Reward: 29.64112987281885\n",
            "Episode 66/200, Total Reward: 29.899478043054827\n",
            "Episode 67/200, Total Reward: 29.821921284847548\n",
            "Episode 68/200, Total Reward: 29.524484989825453\n",
            "Episode 69/200, Total Reward: 30.01898998776749\n",
            "Episode 70/200, Total Reward: 29.377611466482907\n",
            "Episode 71/200, Total Reward: 29.54354496540064\n",
            "Episode 72/200, Total Reward: 29.63838628004078\n",
            "Episode 73/200, Total Reward: 29.33172838552423\n",
            "Episode 74/200, Total Reward: 29.482593036430856\n",
            "Episode 75/200, Total Reward: 27.47710409291608\n",
            "Episode 76/200, Total Reward: 29.979274594320486\n",
            "Episode 77/200, Total Reward: 29.62719504506529\n",
            "Episode 78/200, Total Reward: 29.386363378438443\n",
            "Episode 79/200, Total Reward: 29.110175555215072\n",
            "Episode 80/200, Total Reward: 29.338924515051247\n",
            "Episode 81/200, Total Reward: 28.54205030529732\n",
            "Episode 82/200, Total Reward: 29.54869845117042\n",
            "Episode 83/200, Total Reward: 29.476422782781114\n",
            "Episode 84/200, Total Reward: 29.754307147659052\n",
            "Episode 85/200, Total Reward: 30.032340118812733\n",
            "Episode 86/200, Total Reward: 30.429631867983183\n",
            "Episode 87/200, Total Reward: 29.88128087125053\n",
            "Episode 88/200, Total Reward: 29.68482975001866\n",
            "Episode 89/200, Total Reward: 28.611473739831364\n",
            "Episode 90/200, Total Reward: 29.764581931650465\n",
            "Episode 91/200, Total Reward: 29.339557084385703\n",
            "Episode 92/200, Total Reward: 29.08933547779791\n",
            "Episode 93/200, Total Reward: 29.86755720282737\n",
            "Episode 94/200, Total Reward: 29.772004541814773\n",
            "Episode 95/200, Total Reward: 29.778244380204324\n",
            "Episode 96/200, Total Reward: 30.07989099875726\n",
            "Episode 97/200, Total Reward: 30.251437082283942\n",
            "Episode 98/200, Total Reward: 30.22126388160379\n",
            "Episode 99/200, Total Reward: 29.537289636229264\n",
            "Episode 100/200, Total Reward: 29.58639681328233\n",
            "Episode 101/200, Total Reward: 29.959252491639692\n",
            "Episode 102/200, Total Reward: 29.870789314240593\n",
            "Episode 103/200, Total Reward: 28.648038993257106\n",
            "Episode 104/200, Total Reward: 30.72729892464937\n",
            "Episode 105/200, Total Reward: 29.84927711977278\n",
            "Episode 106/200, Total Reward: 29.768350083521884\n",
            "Episode 107/200, Total Reward: 29.420499889344846\n",
            "Episode 108/200, Total Reward: 29.774978194635175\n",
            "Episode 109/200, Total Reward: 29.888705689242602\n",
            "Episode 110/200, Total Reward: 30.662641254378748\n",
            "Episode 111/200, Total Reward: 29.804879713845988\n",
            "Episode 112/200, Total Reward: 29.2984308698052\n",
            "Episode 113/200, Total Reward: 29.697666232539937\n",
            "Episode 114/200, Total Reward: 29.054029668720858\n",
            "Episode 115/200, Total Reward: 29.943311267873693\n",
            "Episode 116/200, Total Reward: 29.598981907424672\n",
            "Episode 117/200, Total Reward: 30.068816453963173\n",
            "Episode 118/200, Total Reward: 29.562054984432034\n",
            "Episode 119/200, Total Reward: 30.04320365563741\n",
            "Episode 120/200, Total Reward: 30.131111736110682\n",
            "Episode 121/200, Total Reward: 29.476541534198194\n",
            "Episode 122/200, Total Reward: 29.616275008068616\n",
            "Episode 123/200, Total Reward: 30.17002748404899\n",
            "Episode 124/200, Total Reward: 30.123705544530402\n",
            "Episode 125/200, Total Reward: 31.39035612523343\n",
            "Episode 126/200, Total Reward: 28.984063692341692\n",
            "Episode 127/200, Total Reward: 29.625674140159415\n",
            "Episode 128/200, Total Reward: 29.203714577307856\n",
            "Episode 129/200, Total Reward: 29.362784287818254\n",
            "Episode 130/200, Total Reward: 30.03364792873173\n",
            "Episode 131/200, Total Reward: 29.78325282466992\n",
            "Episode 132/200, Total Reward: 29.987196047271567\n",
            "Episode 133/200, Total Reward: 29.891748474102986\n",
            "Episode 134/200, Total Reward: 28.746701189553704\n",
            "Episode 135/200, Total Reward: 29.955910735601528\n",
            "Episode 136/200, Total Reward: 29.89490351155996\n",
            "Episode 137/200, Total Reward: 28.464323982686416\n",
            "Episode 138/200, Total Reward: 28.8150202663182\n",
            "Episode 139/200, Total Reward: 29.69462813060144\n",
            "Episode 140/200, Total Reward: 30.093707501335142\n",
            "Episode 141/200, Total Reward: 29.714636040408923\n",
            "Episode 142/200, Total Reward: 29.804588401428227\n",
            "Episode 143/200, Total Reward: 29.351507465021097\n",
            "Episode 144/200, Total Reward: 30.005747672041444\n",
            "Episode 145/200, Total Reward: 29.482939734187017\n",
            "Episode 146/200, Total Reward: 29.666675549412087\n",
            "Episode 147/200, Total Reward: 29.02679666429286\n",
            "Episode 148/200, Total Reward: 29.359334023620498\n",
            "Episode 149/200, Total Reward: 29.657080104152936\n",
            "Episode 150/200, Total Reward: 28.442596642910246\n",
            "Episode 151/200, Total Reward: 29.837895934564195\n",
            "Episode 152/200, Total Reward: 29.837625192327216\n",
            "Episode 153/200, Total Reward: 29.86354610724429\n",
            "Episode 154/200, Total Reward: 29.139168387170976\n",
            "Episode 155/200, Total Reward: 28.990546325673126\n",
            "Episode 156/200, Total Reward: 29.39612735745575\n",
            "Episode 157/200, Total Reward: 29.461352626513275\n",
            "Episode 158/200, Total Reward: 30.337155096110116\n",
            "Episode 159/200, Total Reward: 29.91567486579666\n",
            "Episode 160/200, Total Reward: 29.71441274479409\n",
            "Episode 161/200, Total Reward: 29.31301711180467\n",
            "Episode 162/200, Total Reward: 29.302299905686496\n",
            "Episode 163/200, Total Reward: 28.105248866024137\n",
            "Episode 164/200, Total Reward: 30.00484117852712\n",
            "Episode 165/200, Total Reward: 29.35821058758152\n",
            "Episode 166/200, Total Reward: 27.992112257941955\n",
            "Episode 167/200, Total Reward: 29.59574010478737\n",
            "Episode 168/200, Total Reward: 30.062434803639135\n",
            "Episode 169/200, Total Reward: 26.581964009989484\n",
            "Episode 170/200, Total Reward: 30.026364637966914\n",
            "Episode 171/200, Total Reward: 29.062030651716338\n",
            "Episode 172/200, Total Reward: 29.58851598896495\n",
            "Episode 173/200, Total Reward: 29.758950620263466\n",
            "Episode 174/200, Total Reward: 30.036410824864326\n",
            "Episode 175/200, Total Reward: 29.590972539710865\n",
            "Episode 176/200, Total Reward: 29.843410181033157\n",
            "Episode 177/200, Total Reward: 30.58315076921752\n",
            "Episode 178/200, Total Reward: 30.139786130786103\n",
            "Episode 179/200, Total Reward: 28.6031755464422\n",
            "Episode 180/200, Total Reward: 29.389310664243116\n",
            "Episode 181/200, Total Reward: 30.262205304029006\n",
            "Episode 182/200, Total Reward: 28.64361958322154\n",
            "Episode 183/200, Total Reward: 29.712132587136207\n",
            "Episode 184/200, Total Reward: 30.648489879662886\n",
            "Episode 185/200, Total Reward: 30.094652147223037\n",
            "Episode 186/200, Total Reward: 29.39306760469789\n",
            "Episode 187/200, Total Reward: 29.85124707089577\n",
            "Episode 188/200, Total Reward: 28.20661365541752\n",
            "Episode 189/200, Total Reward: 29.020062160858373\n",
            "Episode 190/200, Total Reward: 29.559533484106733\n",
            "Episode 191/200, Total Reward: 29.866069892703003\n",
            "Episode 192/200, Total Reward: 28.721117594429007\n",
            "Episode 193/200, Total Reward: 29.694063799753778\n",
            "Episode 194/200, Total Reward: 30.113151697860616\n",
            "Episode 195/200, Total Reward: 30.253802580887715\n",
            "Episode 196/200, Total Reward: 29.577215769889357\n",
            "Episode 197/200, Total Reward: 29.837732935035692\n",
            "Episode 198/200, Total Reward: 29.732449287693537\n",
            "Episode 199/200, Total Reward: 29.933936844481572\n",
            "Episode 200/200, Total Reward: 30.6431566343927\n"
          ]
        }
      ],
      "source": [
        "state_history_07, rewards_list_07 = train_dqn(agent_07, env_07, ALL_EPISODES, batch_size ,UPDATE,dqn_agent_name = \"Probability07.pth\")"
      ],
      "id": "ea3b0a7a"
    },
    {
      "cell_type": "markdown",
      "metadata": {
        "id": "f2ef54f7"
      },
      "source": [
        "### PROBABILITY =  0.8"
      ],
      "id": "f2ef54f7"
    },
    {
      "cell_type": "code",
      "execution_count": 63,
      "metadata": {
        "id": "8eb55a73"
      },
      "outputs": [],
      "source": [
        "PROBABILITY =  0.8"
      ],
      "id": "8eb55a73"
    },
    {
      "cell_type": "code",
      "execution_count": 64,
      "metadata": {
        "id": "744735de"
      },
      "outputs": [],
      "source": [
        "intial_train_graph_08,active_fake_set_08,intial_fake_set_08,all_fake_nodes_08 = generate_random_graph(FAKE_DIFF_ITER,M_INDEX,FAKE_SEED_NUM,NODE_NUM, EDGE_NUM )"
      ],
      "id": "744735de"
    },
    {
      "cell_type": "code",
      "execution_count": 65,
      "metadata": {
        "id": "2d278fbf",
        "outputId": "483a9992-65ab-42ed-ec2f-b17796562607",
        "colab": {
          "base_uri": "https://localhost:8080/"
        }
      },
      "outputs": [
        {
          "output_type": "stream",
          "name": "stdout",
          "text": [
            "normal nodes number: 476\n",
            "true nodes number: 0\n",
            "fake nodes number: 24\n",
            "the edge of graph: 1500\n"
          ]
        }
      ],
      "source": [
        "statistic_draw_graph(intial_train_graph_08)"
      ],
      "id": "2d278fbf"
    },
    {
      "cell_type": "code",
      "execution_count": 66,
      "metadata": {
        "id": "37151517",
        "outputId": "fec8acf7-f2a6-4ad7-a825-257f3db9a032",
        "colab": {
          "base_uri": "https://localhost:8080/"
        }
      },
      "outputs": [
        {
          "output_type": "execute_result",
          "data": {
            "text/plain": [
              "19"
            ]
          },
          "metadata": {},
          "execution_count": 66
        }
      ],
      "source": [
        "len(active_fake_set_08)"
      ],
      "id": "37151517"
    },
    {
      "cell_type": "code",
      "execution_count": 67,
      "metadata": {
        "id": "b5aca312",
        "outputId": "b14e7ff7-907d-4c4f-810e-cb577134f4ba",
        "colab": {
          "base_uri": "https://localhost:8080/"
        }
      },
      "outputs": [
        {
          "output_type": "stream",
          "name": "stdout",
          "text": [
            "9\n"
          ]
        }
      ],
      "source": [
        "SEED_SIZE =SEED_SIZE = int((FAKE_DIFF_ITER/(FAKE_DIFF_ITER+1))*len(active_fake_set_08)) \n",
        "print(SEED_SIZE)"
      ],
      "id": "b5aca312"
    },
    {
      "cell_type": "code",
      "execution_count": 68,
      "metadata": {
        "id": "19c81be5"
      },
      "outputs": [],
      "source": [
        "env_08 = Env(intial_train_graph_08, SEED_SIZE,active_fake_set_08)"
      ],
      "id": "19c81be5"
    },
    {
      "cell_type": "code",
      "execution_count": 69,
      "metadata": {
        "id": "78e7902b"
      },
      "outputs": [],
      "source": [
        "agent_08 = DQNAgent(state_dim, action_dim, LR , GAMMA, EPSILON, EPSILON_DECAY)"
      ],
      "id": "78e7902b"
    },
    {
      "cell_type": "code",
      "execution_count": 70,
      "metadata": {
        "id": "bc463cab",
        "outputId": "388de179-8fe5-4fd8-a66d-d7edd9d78e6e",
        "colab": {
          "base_uri": "https://localhost:8080/"
        }
      },
      "outputs": [
        {
          "output_type": "stream",
          "name": "stdout",
          "text": [
            "Episode 1/200, Total Reward: 29.21624012872725\n",
            "Episode 2/200, Total Reward: 29.80316284765738\n",
            "Episode 3/200, Total Reward: 29.69009227252142\n",
            "Episode 4/200, Total Reward: 30.004992411139305\n",
            "Episode 5/200, Total Reward: 29.878853063336983\n",
            "Episode 6/200, Total Reward: 29.854769474371217\n",
            "Episode 7/200, Total Reward: 29.73895780972838\n",
            "Episode 8/200, Total Reward: 28.962113534093557\n",
            "Episode 9/200, Total Reward: 29.776468321582687\n",
            "Episode 10/200, Total Reward: 29.541393725696025\n",
            "Episode 11/200, Total Reward: 29.62948501429891\n",
            "Episode 12/200, Total Reward: 29.62321579965039\n",
            "Episode 13/200, Total Reward: 29.11894754946731\n",
            "Episode 14/200, Total Reward: 28.805632107153205\n",
            "Episode 15/200, Total Reward: 29.828995671795365\n",
            "Episode 16/200, Total Reward: 29.835487465808285\n",
            "Episode 17/200, Total Reward: 29.81818270735524\n",
            "Episode 18/200, Total Reward: 29.7991255488563\n",
            "Episode 19/200, Total Reward: 29.031991862191745\n",
            "Episode 20/200, Total Reward: 29.74612451978015\n",
            "Episode 21/200, Total Reward: 29.923895966632593\n",
            "Episode 22/200, Total Reward: 29.756648372502813\n",
            "Episode 23/200, Total Reward: 29.74907993652412\n",
            "Episode 24/200, Total Reward: 29.611745298163246\n",
            "Episode 25/200, Total Reward: 29.818491616782097\n",
            "Episode 26/200, Total Reward: 29.705222113289558\n",
            "Episode 27/200, Total Reward: 28.64378237617915\n",
            "Episode 28/200, Total Reward: 29.767491080533336\n",
            "Episode 29/200, Total Reward: 29.69678744003296\n",
            "Episode 30/200, Total Reward: 30.016929995724066\n",
            "Episode 31/200, Total Reward: 29.816637154060796\n"
          ]
        },
        {
          "output_type": "stream",
          "name": "stderr",
          "text": [
            "<ipython-input-14-85c251d2ca30>:16: UserWarning: To copy construct from a tensor, it is recommended to use sourceTensor.clone().detach() or sourceTensor.clone().detach().requires_grad_(True), rather than torch.tensor(sourceTensor).\n",
            "  state = torch.tensor(state, dtype=torch.float32).to(device)\n"
          ]
        },
        {
          "output_type": "stream",
          "name": "stdout",
          "text": [
            "Episode 32/200, Total Reward: 29.91773763911695\n",
            "Episode 33/200, Total Reward: 29.918749921249923\n",
            "Episode 34/200, Total Reward: 29.730090166815618\n",
            "Episode 35/200, Total Reward: 28.656947385919427\n",
            "Episode 36/200, Total Reward: 29.837657410262953\n",
            "Episode 37/200, Total Reward: 29.722120458801598\n",
            "Episode 38/200, Total Reward: 29.89758213420473\n",
            "Episode 39/200, Total Reward: 29.721018455920028\n",
            "Episode 40/200, Total Reward: 29.845624211962914\n",
            "Episode 41/200, Total Reward: 30.31875240636417\n",
            "Episode 42/200, Total Reward: 29.40934923176474\n",
            "Episode 43/200, Total Reward: 29.898026116003948\n",
            "Episode 44/200, Total Reward: 29.839190120246993\n",
            "Episode 45/200, Total Reward: 30.082832114144246\n",
            "Episode 46/200, Total Reward: 29.40954020647593\n",
            "Episode 47/200, Total Reward: 29.733980439568594\n",
            "Episode 48/200, Total Reward: 29.876245494280603\n",
            "Episode 49/200, Total Reward: 28.833732180386644\n",
            "Episode 50/200, Total Reward: 30.05178118777589\n",
            "Episode 51/200, Total Reward: 29.63812409356161\n",
            "Episode 52/200, Total Reward: 29.8556828802683\n",
            "Episode 53/200, Total Reward: 29.890010641637367\n",
            "Episode 54/200, Total Reward: 29.771084349236695\n",
            "Episode 55/200, Total Reward: 29.886530493153725\n",
            "Episode 56/200, Total Reward: 28.7794998046433\n",
            "Episode 57/200, Total Reward: 29.517322982544737\n",
            "Episode 58/200, Total Reward: 29.94490114734849\n",
            "Episode 59/200, Total Reward: 29.772171095703204\n",
            "Episode 60/200, Total Reward: 29.986459811302502\n",
            "Episode 61/200, Total Reward: 28.885523892589646\n",
            "Episode 62/200, Total Reward: 29.94763717787555\n",
            "Episode 63/200, Total Reward: 29.729456917613916\n",
            "Episode 64/200, Total Reward: 28.71272455970814\n",
            "Episode 65/200, Total Reward: 29.12765211717577\n",
            "Episode 66/200, Total Reward: 29.543765571856696\n",
            "Episode 67/200, Total Reward: 28.972398890015775\n",
            "Episode 68/200, Total Reward: 29.77817379774281\n",
            "Episode 69/200, Total Reward: 30.042336373487792\n",
            "Episode 70/200, Total Reward: 30.098236119734928\n",
            "Episode 71/200, Total Reward: 28.92464302971124\n",
            "Episode 72/200, Total Reward: 29.748645115562358\n",
            "Episode 73/200, Total Reward: 29.495834045051776\n",
            "Episode 74/200, Total Reward: 29.768597426801524\n",
            "Episode 75/200, Total Reward: 29.73535451262733\n",
            "Episode 76/200, Total Reward: 28.827812594618624\n",
            "Episode 77/200, Total Reward: 29.79319232405456\n",
            "Episode 78/200, Total Reward: 29.31450162117737\n",
            "Episode 79/200, Total Reward: 27.425490135389143\n",
            "Episode 80/200, Total Reward: 29.140216182904496\n",
            "Episode 81/200, Total Reward: 29.614603419661517\n",
            "Episode 82/200, Total Reward: 29.53101815792148\n",
            "Episode 83/200, Total Reward: 28.861401537010153\n",
            "Episode 84/200, Total Reward: 29.732555639087078\n",
            "Episode 85/200, Total Reward: 29.928681484178473\n",
            "Episode 86/200, Total Reward: 29.607549163109077\n",
            "Episode 87/200, Total Reward: 29.684815215945832\n",
            "Episode 88/200, Total Reward: 29.491517223009442\n",
            "Episode 89/200, Total Reward: 28.92667797724675\n",
            "Episode 90/200, Total Reward: 29.312731465658146\n",
            "Episode 91/200, Total Reward: 29.819650734143462\n",
            "Episode 92/200, Total Reward: 29.841986581757983\n",
            "Episode 93/200, Total Reward: 29.77285452181655\n",
            "Episode 94/200, Total Reward: 29.814140041490273\n",
            "Episode 95/200, Total Reward: 29.11470356781154\n",
            "Episode 96/200, Total Reward: 29.84951569736666\n",
            "Episode 97/200, Total Reward: 29.176413363328354\n",
            "Episode 98/200, Total Reward: 29.77129252231446\n",
            "Episode 99/200, Total Reward: 29.917745154202503\n",
            "Episode 100/200, Total Reward: 29.74189337385049\n",
            "Episode 101/200, Total Reward: 29.56087682492358\n",
            "Episode 102/200, Total Reward: 29.946852942002923\n",
            "Episode 103/200, Total Reward: 29.569188208021032\n",
            "Episode 104/200, Total Reward: 29.679634883372277\n",
            "Episode 105/200, Total Reward: 29.732671051443614\n",
            "Episode 106/200, Total Reward: 29.533843079142635\n",
            "Episode 107/200, Total Reward: 29.07618560083397\n",
            "Episode 108/200, Total Reward: 29.81454015123095\n",
            "Episode 109/200, Total Reward: 29.64025741157707\n",
            "Episode 110/200, Total Reward: 29.600443879690683\n",
            "Episode 111/200, Total Reward: 29.71787609372442\n",
            "Episode 112/200, Total Reward: 30.105596090769545\n",
            "Episode 113/200, Total Reward: 29.834476176848945\n",
            "Episode 114/200, Total Reward: 28.793079587723522\n",
            "Episode 115/200, Total Reward: 29.772119746348448\n",
            "Episode 116/200, Total Reward: 29.701891159108893\n",
            "Episode 117/200, Total Reward: 29.61174486478583\n",
            "Episode 118/200, Total Reward: 29.38645141489654\n",
            "Episode 119/200, Total Reward: 29.83383493522045\n",
            "Episode 120/200, Total Reward: 28.98593470790378\n",
            "Episode 121/200, Total Reward: 29.876842948874607\n",
            "Episode 122/200, Total Reward: 29.68014599583014\n",
            "Episode 123/200, Total Reward: 29.41764056412396\n",
            "Episode 124/200, Total Reward: 29.135386919249473\n",
            "Episode 125/200, Total Reward: 29.680186141597314\n",
            "Episode 126/200, Total Reward: 29.916097950051142\n",
            "Episode 127/200, Total Reward: 28.692068513026985\n",
            "Episode 128/200, Total Reward: 29.544699310109444\n",
            "Episode 129/200, Total Reward: 29.308303329917916\n",
            "Episode 130/200, Total Reward: 29.708215508336895\n",
            "Episode 131/200, Total Reward: 29.5172556948068\n",
            "Episode 132/200, Total Reward: 29.932178635494683\n",
            "Episode 133/200, Total Reward: 29.841929874831553\n",
            "Episode 134/200, Total Reward: 30.06777831438481\n",
            "Episode 135/200, Total Reward: 29.716036330582583\n",
            "Episode 136/200, Total Reward: 29.74734366759934\n",
            "Episode 137/200, Total Reward: 28.97489836953455\n",
            "Episode 138/200, Total Reward: 29.518090068095802\n",
            "Episode 139/200, Total Reward: 29.711550074377378\n",
            "Episode 140/200, Total Reward: 29.870982832469043\n",
            "Episode 141/200, Total Reward: 30.367497634284497\n",
            "Episode 142/200, Total Reward: 29.907872584062392\n",
            "Episode 143/200, Total Reward: 29.465068931046666\n",
            "Episode 144/200, Total Reward: 29.730992121648754\n",
            "Episode 145/200, Total Reward: 29.40220718063579\n",
            "Episode 146/200, Total Reward: 29.102306479691595\n",
            "Episode 147/200, Total Reward: 28.975838581940312\n",
            "Episode 148/200, Total Reward: 29.43896151152504\n",
            "Episode 149/200, Total Reward: 29.61246825688619\n",
            "Episode 150/200, Total Reward: 29.717492218398075\n",
            "Episode 151/200, Total Reward: 30.2619916588411\n",
            "Episode 152/200, Total Reward: 29.831273365899328\n",
            "Episode 153/200, Total Reward: 29.803749702487586\n",
            "Episode 154/200, Total Reward: 29.62712991464701\n",
            "Episode 155/200, Total Reward: 29.64585857394778\n",
            "Episode 156/200, Total Reward: 29.67558757487696\n",
            "Episode 157/200, Total Reward: 29.76730932327309\n",
            "Episode 158/200, Total Reward: 29.267536379464104\n",
            "Episode 159/200, Total Reward: 29.450040234638838\n",
            "Episode 160/200, Total Reward: 29.652759785558853\n",
            "Episode 161/200, Total Reward: 29.771619894642207\n",
            "Episode 162/200, Total Reward: 29.6437752141901\n",
            "Episode 163/200, Total Reward: 29.9424996408046\n",
            "Episode 164/200, Total Reward: 29.086408043863443\n",
            "Episode 165/200, Total Reward: 29.875863590250475\n",
            "Episode 166/200, Total Reward: 29.910334247654664\n",
            "Episode 167/200, Total Reward: 29.06522279567545\n",
            "Episode 168/200, Total Reward: 29.46468131447928\n",
            "Episode 169/200, Total Reward: 29.64055266757866\n",
            "Episode 170/200, Total Reward: 29.733161932685853\n",
            "Episode 171/200, Total Reward: 29.905377785696906\n",
            "Episode 172/200, Total Reward: 29.038956697115395\n",
            "Episode 173/200, Total Reward: 30.162654704979484\n",
            "Episode 174/200, Total Reward: 29.620615450101795\n",
            "Episode 175/200, Total Reward: 29.834772805366583\n",
            "Episode 176/200, Total Reward: 29.57528257510815\n",
            "Episode 177/200, Total Reward: 29.66402277232422\n",
            "Episode 178/200, Total Reward: 29.60723434959915\n",
            "Episode 179/200, Total Reward: 29.941120123268522\n",
            "Episode 180/200, Total Reward: 29.701034797388726\n",
            "Episode 181/200, Total Reward: 29.06859263958481\n",
            "Episode 182/200, Total Reward: 30.478895182100846\n",
            "Episode 183/200, Total Reward: 29.79351227186205\n",
            "Episode 184/200, Total Reward: 28.30460461956397\n",
            "Episode 185/200, Total Reward: 29.082951251953734\n",
            "Episode 186/200, Total Reward: 29.51567177152972\n",
            "Episode 187/200, Total Reward: 29.578456890266\n",
            "Episode 188/200, Total Reward: 29.940312005791355\n",
            "Episode 189/200, Total Reward: 29.595353507227376\n",
            "Episode 190/200, Total Reward: 27.737463168065876\n",
            "Episode 191/200, Total Reward: 29.61846045037482\n",
            "Episode 192/200, Total Reward: 29.709640123166608\n",
            "Episode 193/200, Total Reward: 29.612621672287776\n",
            "Episode 194/200, Total Reward: 29.941973497289588\n",
            "Episode 195/200, Total Reward: 30.18709784632308\n",
            "Episode 196/200, Total Reward: 29.004293554177224\n",
            "Episode 197/200, Total Reward: 29.069754418818142\n",
            "Episode 198/200, Total Reward: 29.67922195919629\n",
            "Episode 199/200, Total Reward: 29.733373449701897\n",
            "Episode 200/200, Total Reward: 29.571112237595244\n"
          ]
        }
      ],
      "source": [
        "state_history_08, rewards_list_08 = train_dqn(agent_08, env_08, ALL_EPISODES, batch_size ,UPDATE,dqn_agent_name = \"Probability08.pth\")"
      ],
      "id": "bc463cab"
    },
    {
      "cell_type": "code",
      "source": [
        "torch.save(agent_08,\"Probability08.pth\")"
      ],
      "metadata": {
        "id": "zJ2AIItE2iiD"
      },
      "id": "zJ2AIItE2iiD",
      "execution_count": 122,
      "outputs": []
    },
    {
      "cell_type": "markdown",
      "metadata": {
        "id": "d470a360"
      },
      "source": [
        "## Testing"
      ],
      "id": "d470a360"
    },
    {
      "cell_type": "code",
      "execution_count": 105,
      "metadata": {
        "id": "0f20a5af"
      },
      "outputs": [],
      "source": [
        "TEST_EPOCHS = 100\n",
        "FIXED = False"
      ],
      "id": "0f20a5af"
    },
    {
      "cell_type": "code",
      "execution_count": 106,
      "metadata": {
        "id": "da1d6484"
      },
      "outputs": [],
      "source": [
        "intial_test_graph,active_fake_set_test,intial_fake_set_test,all_fake_nodes_test = generate_random_graph(FAKE_DIFF_ITER,M_INDEX,FAKE_SEED_NUM,NODE_NUM, EDGE_NUM)"
      ],
      "id": "da1d6484"
    },
    {
      "cell_type": "code",
      "source": [
        "print(FIXED)"
      ],
      "metadata": {
        "colab": {
          "base_uri": "https://localhost:8080/"
        },
        "id": "XpM2fvIKpYP6",
        "outputId": "3e3daf38-db01-46c3-d92d-68176e4592a3"
      },
      "id": "XpM2fvIKpYP6",
      "execution_count": 107,
      "outputs": [
        {
          "output_type": "stream",
          "name": "stdout",
          "text": [
            "False\n"
          ]
        }
      ]
    },
    {
      "cell_type": "code",
      "execution_count": 108,
      "metadata": {
        "id": "47dc734d",
        "outputId": "c02ce599-7eff-41f5-cec8-47144fbc0d76",
        "colab": {
          "base_uri": "https://localhost:8080/"
        }
      },
      "outputs": [
        {
          "output_type": "stream",
          "name": "stdout",
          "text": [
            "normal nodes number: 485\n",
            "true nodes number: 0\n",
            "fake nodes number: 15\n",
            "the edge of graph: 1500\n"
          ]
        }
      ],
      "source": [
        "statistic_draw_graph(intial_test_graph)"
      ],
      "id": "47dc734d"
    },
    {
      "cell_type": "code",
      "execution_count": 109,
      "metadata": {
        "id": "2bdf52e0",
        "outputId": "86cb7b57-6a1e-4e61-c651-763ef51d2e2f",
        "colab": {
          "base_uri": "https://localhost:8080/"
        }
      },
      "outputs": [
        {
          "output_type": "execute_result",
          "data": {
            "text/plain": [
              "10"
            ]
          },
          "metadata": {},
          "execution_count": 109
        }
      ],
      "source": [
        "len(active_fake_set_test)"
      ],
      "id": "2bdf52e0"
    },
    {
      "cell_type": "code",
      "execution_count": 110,
      "metadata": {
        "id": "116b7c2a",
        "outputId": "e6633718-0dd5-4661-bc61-41690c532f31",
        "colab": {
          "base_uri": "https://localhost:8080/"
        }
      },
      "outputs": [
        {
          "output_type": "stream",
          "name": "stdout",
          "text": [
            "5\n"
          ]
        }
      ],
      "source": [
        "SEED_SIZE =SEED_SIZE = int((FAKE_DIFF_ITER/(FAKE_DIFF_ITER+1))*len(active_fake_set_test)) \n",
        "print(SEED_SIZE)"
      ],
      "id": "116b7c2a"
    },
    {
      "cell_type": "code",
      "execution_count": 111,
      "metadata": {
        "id": "02271310"
      },
      "outputs": [],
      "source": [
        "env_test = Env(intial_test_graph, SEED_SIZE,active_fake_set_test)"
      ],
      "id": "02271310"
    },
    {
      "cell_type": "markdown",
      "metadata": {
        "id": "539f8829"
      },
      "source": [
        "### Using various agent from training(PROBABILITY = 0.4 - 0.8)"
      ],
      "id": "539f8829"
    },
    {
      "cell_type": "code",
      "execution_count": 112,
      "metadata": {
        "id": "437db2d3",
        "outputId": "2a76f893-ad3f-4128-9e17-eb1e07c7694a",
        "colab": {
          "base_uri": "https://localhost:8080/"
        }
      },
      "outputs": [
        {
          "output_type": "stream",
          "name": "stderr",
          "text": [
            "<ipython-input-14-85c251d2ca30>:16: UserWarning: To copy construct from a tensor, it is recommended to use sourceTensor.clone().detach() or sourceTensor.clone().detach().requires_grad_(True), rather than torch.tensor(sourceTensor).\n",
            "  state = torch.tensor(state, dtype=torch.float32).to(device)\n"
          ]
        },
        {
          "output_type": "stream",
          "name": "stdout",
          "text": [
            "Test Episode 1/100, Total Reward: 33.54440924023504\n",
            "Test Episode 2/100, Total Reward: 34.68283834838623\n",
            "Test Episode 3/100, Total Reward: 26.067374126676697\n",
            "Test Episode 4/100, Total Reward: 23.441455907208784\n",
            "Test Episode 5/100, Total Reward: 24.507953536518173\n",
            "Test Episode 6/100, Total Reward: 24.149703593068388\n",
            "Test Episode 7/100, Total Reward: 23.785590346719967\n",
            "Test Episode 8/100, Total Reward: 24.638713802256547\n",
            "Test Episode 9/100, Total Reward: 30.663725342115463\n",
            "Test Episode 10/100, Total Reward: 23.198151643188055\n",
            "Test Episode 11/100, Total Reward: 32.025742367962124\n",
            "Test Episode 12/100, Total Reward: 28.23610426561987\n",
            "Test Episode 13/100, Total Reward: 27.871095252358145\n",
            "Test Episode 14/100, Total Reward: 32.0995636618081\n",
            "Test Episode 15/100, Total Reward: 26.4908234321081\n",
            "Test Episode 16/100, Total Reward: 18.846264245048985\n",
            "Test Episode 17/100, Total Reward: 32.43287512259168\n",
            "Test Episode 18/100, Total Reward: 29.896224264568467\n",
            "Test Episode 19/100, Total Reward: 28.661545490763235\n",
            "Test Episode 20/100, Total Reward: 33.94613824498956\n",
            "Test Episode 21/100, Total Reward: 26.81724293864454\n",
            "Test Episode 22/100, Total Reward: 24.23162609771432\n",
            "Test Episode 23/100, Total Reward: 28.14456455158689\n",
            "Test Episode 24/100, Total Reward: 30.861894816261955\n",
            "Test Episode 25/100, Total Reward: 33.81112351784219\n",
            "Test Episode 26/100, Total Reward: 30.45841333720054\n",
            "Test Episode 27/100, Total Reward: 23.202722898117035\n",
            "Test Episode 28/100, Total Reward: 31.241080485882186\n",
            "Test Episode 29/100, Total Reward: 29.88113454354911\n",
            "Test Episode 30/100, Total Reward: 31.707497172533085\n",
            "Test Episode 31/100, Total Reward: 20.819613740424757\n",
            "Test Episode 32/100, Total Reward: 32.67592516034648\n",
            "Test Episode 33/100, Total Reward: 30.156729148170363\n",
            "Test Episode 34/100, Total Reward: 32.32807738832386\n",
            "Test Episode 35/100, Total Reward: 34.28309117287921\n",
            "Test Episode 36/100, Total Reward: 27.488430475170784\n",
            "Test Episode 37/100, Total Reward: 22.239178765224107\n",
            "Test Episode 38/100, Total Reward: 32.97801958681223\n",
            "Test Episode 39/100, Total Reward: 27.842016544676433\n",
            "Test Episode 40/100, Total Reward: 29.432970874839995\n",
            "Test Episode 41/100, Total Reward: 29.114463773366897\n",
            "Test Episode 42/100, Total Reward: 24.44569420150696\n",
            "Test Episode 43/100, Total Reward: 20.760673418797747\n",
            "Test Episode 44/100, Total Reward: 32.32240735977074\n",
            "Test Episode 45/100, Total Reward: 28.574694979387953\n",
            "Test Episode 46/100, Total Reward: 32.27840581386765\n",
            "Test Episode 47/100, Total Reward: 33.813417645437426\n",
            "Test Episode 48/100, Total Reward: 29.642736894166546\n",
            "Test Episode 49/100, Total Reward: 32.16412424626585\n",
            "Test Episode 50/100, Total Reward: 27.721302053436062\n",
            "Test Episode 51/100, Total Reward: 28.25479234978055\n",
            "Test Episode 52/100, Total Reward: 31.13897917821095\n",
            "Test Episode 53/100, Total Reward: 32.559263463919315\n",
            "Test Episode 54/100, Total Reward: 28.584134988875288\n",
            "Test Episode 55/100, Total Reward: 25.639686615827927\n",
            "Test Episode 56/100, Total Reward: 32.19820028361642\n",
            "Test Episode 57/100, Total Reward: 27.040681832690662\n",
            "Test Episode 58/100, Total Reward: 29.79710784321789\n",
            "Test Episode 59/100, Total Reward: 36.62611801713096\n",
            "Test Episode 60/100, Total Reward: 24.692193728843325\n",
            "Test Episode 61/100, Total Reward: 28.51606421445056\n",
            "Test Episode 62/100, Total Reward: 29.140493173472397\n",
            "Test Episode 63/100, Total Reward: 31.011397246705233\n",
            "Test Episode 64/100, Total Reward: 27.442232020720848\n",
            "Test Episode 65/100, Total Reward: 33.9714585848967\n",
            "Test Episode 66/100, Total Reward: 28.307124966865125\n",
            "Test Episode 67/100, Total Reward: 31.180557839065507\n",
            "Test Episode 68/100, Total Reward: 32.113395279399384\n",
            "Test Episode 69/100, Total Reward: 26.137800019437158\n",
            "Test Episode 70/100, Total Reward: 23.731391179662232\n",
            "Test Episode 71/100, Total Reward: 31.967807300731\n",
            "Test Episode 72/100, Total Reward: 32.10494784536188\n",
            "Test Episode 73/100, Total Reward: 28.559983271313456\n",
            "Test Episode 74/100, Total Reward: 27.48879801809033\n",
            "Test Episode 75/100, Total Reward: 23.668650212919502\n",
            "Test Episode 76/100, Total Reward: 33.681400784710455\n",
            "Test Episode 77/100, Total Reward: 30.012273601628287\n",
            "Test Episode 78/100, Total Reward: 30.662195027852363\n",
            "Test Episode 79/100, Total Reward: 28.411478519976935\n",
            "Test Episode 80/100, Total Reward: 30.883940031177758\n",
            "Test Episode 81/100, Total Reward: 22.659702190011423\n",
            "Test Episode 82/100, Total Reward: 18.836979407175946\n",
            "Test Episode 83/100, Total Reward: 36.10926028126072\n",
            "Test Episode 84/100, Total Reward: 29.70206753175841\n",
            "Test Episode 85/100, Total Reward: 19.164482329815154\n",
            "Test Episode 86/100, Total Reward: 27.92723114018736\n",
            "Test Episode 87/100, Total Reward: 27.79093752047544\n",
            "Test Episode 88/100, Total Reward: 29.784142546235962\n",
            "Test Episode 89/100, Total Reward: 20.942996032750706\n",
            "Test Episode 90/100, Total Reward: 24.86650576885495\n",
            "Test Episode 91/100, Total Reward: 27.30339278916384\n",
            "Test Episode 92/100, Total Reward: 27.968687264456268\n",
            "Test Episode 93/100, Total Reward: 24.07734933040536\n",
            "Test Episode 94/100, Total Reward: 30.22041263643209\n",
            "Test Episode 95/100, Total Reward: 31.06331969123186\n",
            "Test Episode 96/100, Total Reward: 32.6755529878642\n",
            "Test Episode 97/100, Total Reward: 29.80169263871931\n",
            "Test Episode 98/100, Total Reward: 31.574635473616773\n",
            "Test Episode 99/100, Total Reward: 27.83237332464067\n",
            "Test Episode 100/100, Total Reward: 25.741142367210493\n"
          ]
        }
      ],
      "source": [
        "#model = torch.load(\"Probability04.pth\")\n",
        "#test_04_rewards = test_dqn_model(model, env_test, TEST_EPOCHS)\n",
        "test_04_rewards = test_dqn(agent_04, env_test, TEST_EPOCHS)"
      ],
      "id": "437db2d3"
    },
    {
      "cell_type": "code",
      "execution_count": 113,
      "metadata": {
        "id": "0494dcfd",
        "outputId": "ec66fe56-6706-4560-93df-3ccd07e48c04",
        "colab": {
          "base_uri": "https://localhost:8080/"
        }
      },
      "outputs": [
        {
          "output_type": "stream",
          "name": "stderr",
          "text": [
            "<ipython-input-14-85c251d2ca30>:16: UserWarning: To copy construct from a tensor, it is recommended to use sourceTensor.clone().detach() or sourceTensor.clone().detach().requires_grad_(True), rather than torch.tensor(sourceTensor).\n",
            "  state = torch.tensor(state, dtype=torch.float32).to(device)\n"
          ]
        },
        {
          "output_type": "stream",
          "name": "stdout",
          "text": [
            "Test Episode 1/100, Total Reward: 29.43391464661787\n",
            "Test Episode 2/100, Total Reward: 27.867123770612153\n",
            "Test Episode 3/100, Total Reward: 29.892966107727744\n",
            "Test Episode 4/100, Total Reward: 29.037547279804844\n",
            "Test Episode 5/100, Total Reward: 29.858671705025124\n",
            "Test Episode 6/100, Total Reward: 21.615921464636322\n",
            "Test Episode 7/100, Total Reward: 27.572381608404367\n",
            "Test Episode 8/100, Total Reward: 28.015989945833184\n",
            "Test Episode 9/100, Total Reward: 27.800979040004\n",
            "Test Episode 10/100, Total Reward: 27.18041900254157\n",
            "Test Episode 11/100, Total Reward: 21.6641431488117\n",
            "Test Episode 12/100, Total Reward: 16.934152639836324\n",
            "Test Episode 13/100, Total Reward: 31.38723673238418\n",
            "Test Episode 14/100, Total Reward: 21.16120688452822\n",
            "Test Episode 15/100, Total Reward: 28.08605641268083\n",
            "Test Episode 16/100, Total Reward: 29.390361202878378\n",
            "Test Episode 17/100, Total Reward: 26.70576935666255\n",
            "Test Episode 18/100, Total Reward: 25.505611147902787\n",
            "Test Episode 19/100, Total Reward: 25.6075275924912\n",
            "Test Episode 20/100, Total Reward: 26.232854645030717\n",
            "Test Episode 21/100, Total Reward: 23.034507134368567\n",
            "Test Episode 22/100, Total Reward: 29.557735367758216\n",
            "Test Episode 23/100, Total Reward: 32.20904766368974\n",
            "Test Episode 24/100, Total Reward: 34.1746672681884\n",
            "Test Episode 25/100, Total Reward: 23.989694016007796\n",
            "Test Episode 26/100, Total Reward: 15.3388803137069\n",
            "Test Episode 27/100, Total Reward: 33.253140268857685\n",
            "Test Episode 28/100, Total Reward: 22.920218160777218\n",
            "Test Episode 29/100, Total Reward: 31.57191117807767\n",
            "Test Episode 30/100, Total Reward: 30.1484161698573\n",
            "Test Episode 31/100, Total Reward: 15.953090507169957\n",
            "Test Episode 32/100, Total Reward: 24.746576961551153\n",
            "Test Episode 33/100, Total Reward: 32.67312566686568\n",
            "Test Episode 34/100, Total Reward: 29.041289204500583\n",
            "Test Episode 35/100, Total Reward: 29.876771023915094\n",
            "Test Episode 36/100, Total Reward: 28.950323439646407\n",
            "Test Episode 37/100, Total Reward: 25.942815947377365\n",
            "Test Episode 38/100, Total Reward: 34.445791193516186\n",
            "Test Episode 39/100, Total Reward: 27.034063424849837\n",
            "Test Episode 40/100, Total Reward: 25.929696168307242\n",
            "Test Episode 41/100, Total Reward: 29.025409972440897\n",
            "Test Episode 42/100, Total Reward: 23.713773620879298\n",
            "Test Episode 43/100, Total Reward: 28.20601430964669\n",
            "Test Episode 44/100, Total Reward: 21.542293800175834\n",
            "Test Episode 45/100, Total Reward: 32.123516729313394\n",
            "Test Episode 46/100, Total Reward: 27.66157568752817\n",
            "Test Episode 47/100, Total Reward: 27.640769360348642\n",
            "Test Episode 48/100, Total Reward: 27.703348603488642\n",
            "Test Episode 49/100, Total Reward: 23.761772882558144\n",
            "Test Episode 50/100, Total Reward: 28.26641468174439\n",
            "Test Episode 51/100, Total Reward: 28.962771529915656\n",
            "Test Episode 52/100, Total Reward: 27.50718363075636\n",
            "Test Episode 53/100, Total Reward: 27.05606090151816\n",
            "Test Episode 54/100, Total Reward: 29.060421569149522\n",
            "Test Episode 55/100, Total Reward: 35.53699856686715\n",
            "Test Episode 56/100, Total Reward: 28.420131360564646\n",
            "Test Episode 57/100, Total Reward: 29.781165464534485\n",
            "Test Episode 58/100, Total Reward: 29.030759260320238\n",
            "Test Episode 59/100, Total Reward: 22.813278230910548\n",
            "Test Episode 60/100, Total Reward: 25.845939392371303\n",
            "Test Episode 61/100, Total Reward: 8.357789634769013\n",
            "Test Episode 62/100, Total Reward: 28.435109683834558\n",
            "Test Episode 63/100, Total Reward: 27.96300837225971\n",
            "Test Episode 64/100, Total Reward: 30.750387881996456\n",
            "Test Episode 65/100, Total Reward: 27.671930363053164\n",
            "Test Episode 66/100, Total Reward: 25.283860340776368\n",
            "Test Episode 67/100, Total Reward: 24.997785539475135\n",
            "Test Episode 68/100, Total Reward: 22.872910218111095\n",
            "Test Episode 69/100, Total Reward: 31.944009957057418\n",
            "Test Episode 70/100, Total Reward: 31.03727727439432\n",
            "Test Episode 71/100, Total Reward: 29.153888151877013\n",
            "Test Episode 72/100, Total Reward: 24.715908435720287\n",
            "Test Episode 73/100, Total Reward: 29.17680318401937\n",
            "Test Episode 74/100, Total Reward: 23.188308636958027\n",
            "Test Episode 75/100, Total Reward: 18.983090875159675\n",
            "Test Episode 76/100, Total Reward: 28.1209376728141\n",
            "Test Episode 77/100, Total Reward: 27.663170428293522\n",
            "Test Episode 78/100, Total Reward: 22.897403685291778\n",
            "Test Episode 79/100, Total Reward: 27.064477678530686\n",
            "Test Episode 80/100, Total Reward: 30.100176104708627\n",
            "Test Episode 81/100, Total Reward: 26.912378879155998\n",
            "Test Episode 82/100, Total Reward: 27.097687401594644\n",
            "Test Episode 83/100, Total Reward: 31.087417002091843\n",
            "Test Episode 84/100, Total Reward: 32.76210975144226\n",
            "Test Episode 85/100, Total Reward: 26.467320862367334\n",
            "Test Episode 86/100, Total Reward: 28.871258799274823\n",
            "Test Episode 87/100, Total Reward: 31.4392615501969\n",
            "Test Episode 88/100, Total Reward: 25.298090464313336\n",
            "Test Episode 89/100, Total Reward: 30.578068880550862\n",
            "Test Episode 90/100, Total Reward: 26.852894662477095\n",
            "Test Episode 91/100, Total Reward: 22.92449020559717\n",
            "Test Episode 92/100, Total Reward: 23.480940930900672\n",
            "Test Episode 93/100, Total Reward: 26.67566640061162\n",
            "Test Episode 94/100, Total Reward: 22.662144775536106\n",
            "Test Episode 95/100, Total Reward: 29.476267801995835\n",
            "Test Episode 96/100, Total Reward: 14.637191652728673\n",
            "Test Episode 97/100, Total Reward: 29.148740706883405\n",
            "Test Episode 98/100, Total Reward: 21.985206562270207\n",
            "Test Episode 99/100, Total Reward: 32.736149777004684\n",
            "Test Episode 100/100, Total Reward: 26.73162756098193\n"
          ]
        }
      ],
      "source": [
        "#model = torch.load(\"Probability05.pth\")\n",
        "#test_05_rewards = test_dqn_model(model, env_test, TEST_EPOCHS)\n",
        "test_05_rewards = test_dqn(agent_05, env_test, TEST_EPOCHS)"
      ],
      "id": "0494dcfd"
    },
    {
      "cell_type": "code",
      "execution_count": 114,
      "metadata": {
        "id": "e7798584",
        "outputId": "949976d2-83ba-4488-f26e-6f1a2b8a4aee",
        "colab": {
          "base_uri": "https://localhost:8080/"
        }
      },
      "outputs": [
        {
          "output_type": "stream",
          "name": "stderr",
          "text": [
            "<ipython-input-14-85c251d2ca30>:16: UserWarning: To copy construct from a tensor, it is recommended to use sourceTensor.clone().detach() or sourceTensor.clone().detach().requires_grad_(True), rather than torch.tensor(sourceTensor).\n",
            "  state = torch.tensor(state, dtype=torch.float32).to(device)\n"
          ]
        },
        {
          "output_type": "stream",
          "name": "stdout",
          "text": [
            "Test Episode 1/100, Total Reward: 28.267745585791992\n",
            "Test Episode 2/100, Total Reward: 30.602165375517973\n",
            "Test Episode 3/100, Total Reward: 21.66394871041107\n",
            "Test Episode 4/100, Total Reward: 27.265779578991957\n",
            "Test Episode 5/100, Total Reward: 21.556794893756553\n",
            "Test Episode 6/100, Total Reward: 13.062389061969416\n",
            "Test Episode 7/100, Total Reward: 24.10251176236585\n",
            "Test Episode 8/100, Total Reward: 29.44820917396808\n",
            "Test Episode 9/100, Total Reward: 24.4282872583858\n",
            "Test Episode 10/100, Total Reward: 14.648369413905698\n",
            "Test Episode 11/100, Total Reward: 21.680725388376516\n",
            "Test Episode 12/100, Total Reward: 34.129988788575844\n",
            "Test Episode 13/100, Total Reward: 31.846200506611595\n",
            "Test Episode 14/100, Total Reward: 23.48636304967635\n",
            "Test Episode 15/100, Total Reward: 32.446437118055265\n",
            "Test Episode 16/100, Total Reward: 27.999595953898247\n",
            "Test Episode 17/100, Total Reward: 36.423127093317724\n",
            "Test Episode 18/100, Total Reward: 32.41272883788055\n",
            "Test Episode 19/100, Total Reward: 20.87111589344969\n",
            "Test Episode 20/100, Total Reward: 35.80465457947995\n",
            "Test Episode 21/100, Total Reward: 18.171610198173862\n",
            "Test Episode 22/100, Total Reward: 29.10121967390673\n",
            "Test Episode 23/100, Total Reward: 29.94029095217244\n",
            "Test Episode 24/100, Total Reward: 33.27998137111811\n",
            "Test Episode 25/100, Total Reward: 25.093654779913493\n",
            "Test Episode 26/100, Total Reward: 12.02845249271574\n",
            "Test Episode 27/100, Total Reward: 33.141134354169345\n",
            "Test Episode 28/100, Total Reward: 32.13393982140757\n",
            "Test Episode 29/100, Total Reward: 26.63773180508805\n",
            "Test Episode 30/100, Total Reward: 26.354267974857322\n",
            "Test Episode 31/100, Total Reward: 29.287438273543863\n",
            "Test Episode 32/100, Total Reward: 18.15913421568884\n",
            "Test Episode 33/100, Total Reward: 32.04689436547604\n",
            "Test Episode 34/100, Total Reward: 18.878223916932818\n",
            "Test Episode 35/100, Total Reward: 26.38156640528852\n",
            "Test Episode 36/100, Total Reward: 22.91200718943378\n",
            "Test Episode 37/100, Total Reward: 31.799073515186638\n",
            "Test Episode 38/100, Total Reward: 18.654402073781007\n",
            "Test Episode 39/100, Total Reward: 34.840069650380684\n",
            "Test Episode 40/100, Total Reward: 23.066889042745327\n",
            "Test Episode 41/100, Total Reward: 27.373553082666923\n",
            "Test Episode 42/100, Total Reward: 13.225301797323883\n",
            "Test Episode 43/100, Total Reward: 27.017121604290192\n",
            "Test Episode 44/100, Total Reward: 20.93203904006471\n",
            "Test Episode 45/100, Total Reward: 15.371174256908805\n",
            "Test Episode 46/100, Total Reward: 38.56532721703818\n",
            "Test Episode 47/100, Total Reward: 33.94432405432696\n",
            "Test Episode 48/100, Total Reward: 27.43730828973944\n",
            "Test Episode 49/100, Total Reward: 13.061097087186443\n",
            "Test Episode 50/100, Total Reward: 28.289923865736082\n",
            "Test Episode 51/100, Total Reward: 27.152379584381713\n",
            "Test Episode 52/100, Total Reward: 24.78510607475388\n",
            "Test Episode 53/100, Total Reward: 11.036115074326037\n",
            "Test Episode 54/100, Total Reward: 21.64065450997932\n",
            "Test Episode 55/100, Total Reward: 31.339913609732964\n",
            "Test Episode 56/100, Total Reward: 32.52510620674601\n",
            "Test Episode 57/100, Total Reward: 30.3012996732937\n",
            "Test Episode 58/100, Total Reward: 25.580778213508868\n",
            "Test Episode 59/100, Total Reward: 31.354042403370194\n",
            "Test Episode 60/100, Total Reward: 19.84818687637678\n",
            "Test Episode 61/100, Total Reward: 28.73633131338022\n",
            "Test Episode 62/100, Total Reward: 20.076572775968675\n",
            "Test Episode 63/100, Total Reward: 28.065939986061235\n",
            "Test Episode 64/100, Total Reward: 25.91561163456243\n",
            "Test Episode 65/100, Total Reward: 33.16916271490208\n",
            "Test Episode 66/100, Total Reward: 31.457519561361853\n",
            "Test Episode 67/100, Total Reward: 25.899328408425994\n",
            "Test Episode 68/100, Total Reward: 23.638704350378145\n",
            "Test Episode 69/100, Total Reward: 19.971088820276748\n",
            "Test Episode 70/100, Total Reward: 26.33337877423171\n",
            "Test Episode 71/100, Total Reward: 30.469499518075935\n",
            "Test Episode 72/100, Total Reward: 21.492388192935692\n",
            "Test Episode 73/100, Total Reward: 32.53106361192269\n",
            "Test Episode 74/100, Total Reward: 27.139160019577247\n",
            "Test Episode 75/100, Total Reward: 29.460201786599015\n",
            "Test Episode 76/100, Total Reward: 27.548281520462925\n",
            "Test Episode 77/100, Total Reward: 13.481620839246727\n",
            "Test Episode 78/100, Total Reward: 25.994731103205776\n",
            "Test Episode 79/100, Total Reward: 20.476996255226908\n",
            "Test Episode 80/100, Total Reward: 34.767777279342\n",
            "Test Episode 81/100, Total Reward: 35.338356219104185\n",
            "Test Episode 82/100, Total Reward: 27.87647287177556\n",
            "Test Episode 83/100, Total Reward: 24.866916446365877\n",
            "Test Episode 84/100, Total Reward: 22.866190613006506\n",
            "Test Episode 85/100, Total Reward: 38.833478653874856\n",
            "Test Episode 86/100, Total Reward: 11.781131423871521\n",
            "Test Episode 87/100, Total Reward: 27.466597728770406\n",
            "Test Episode 88/100, Total Reward: 27.943195098537046\n",
            "Test Episode 89/100, Total Reward: 33.10687457835305\n",
            "Test Episode 90/100, Total Reward: 28.966559150719103\n",
            "Test Episode 91/100, Total Reward: 23.902286472018876\n",
            "Test Episode 92/100, Total Reward: 31.41922647712752\n",
            "Test Episode 93/100, Total Reward: 17.111399366098173\n",
            "Test Episode 94/100, Total Reward: 25.845017768024054\n",
            "Test Episode 95/100, Total Reward: 28.63160370900313\n",
            "Test Episode 96/100, Total Reward: 29.04520836896401\n",
            "Test Episode 97/100, Total Reward: 29.30654260353447\n",
            "Test Episode 98/100, Total Reward: 28.816766218452944\n",
            "Test Episode 99/100, Total Reward: 24.860452649759026\n",
            "Test Episode 100/100, Total Reward: 22.990983958310768\n"
          ]
        }
      ],
      "source": [
        "#model = torch.load(\"Probability06.pth\")\n",
        "#test_06_rewards = test_dqn_model(model, env_test, TEST_EPOCHS)\n",
        "test_06_rewards = test_dqn(agent_06, env_test, TEST_EPOCHS)"
      ],
      "id": "e7798584"
    },
    {
      "cell_type": "code",
      "execution_count": 115,
      "metadata": {
        "id": "13af08e6",
        "outputId": "a0d0f121-51ed-44d9-f05f-599ba77729bc",
        "colab": {
          "base_uri": "https://localhost:8080/"
        }
      },
      "outputs": [
        {
          "output_type": "stream",
          "name": "stderr",
          "text": [
            "<ipython-input-14-85c251d2ca30>:16: UserWarning: To copy construct from a tensor, it is recommended to use sourceTensor.clone().detach() or sourceTensor.clone().detach().requires_grad_(True), rather than torch.tensor(sourceTensor).\n",
            "  state = torch.tensor(state, dtype=torch.float32).to(device)\n"
          ]
        },
        {
          "output_type": "stream",
          "name": "stdout",
          "text": [
            "Test Episode 1/100, Total Reward: 25.9936524132071\n",
            "Test Episode 2/100, Total Reward: 29.966546130347457\n",
            "Test Episode 3/100, Total Reward: 30.7056249566036\n",
            "Test Episode 4/100, Total Reward: 28.558310393876205\n",
            "Test Episode 5/100, Total Reward: 21.4471383955578\n",
            "Test Episode 6/100, Total Reward: 32.32509629564775\n",
            "Test Episode 7/100, Total Reward: 28.767077551590596\n",
            "Test Episode 8/100, Total Reward: 32.2292908824977\n",
            "Test Episode 9/100, Total Reward: 31.808881743098798\n",
            "Test Episode 10/100, Total Reward: 31.364342630372906\n",
            "Test Episode 11/100, Total Reward: 31.260310463847254\n",
            "Test Episode 12/100, Total Reward: 29.289862761170735\n",
            "Test Episode 13/100, Total Reward: 31.186416682990174\n",
            "Test Episode 14/100, Total Reward: 35.93465480662889\n",
            "Test Episode 15/100, Total Reward: 30.9134103557207\n",
            "Test Episode 16/100, Total Reward: 27.73588538236757\n",
            "Test Episode 17/100, Total Reward: 27.79081766652036\n",
            "Test Episode 18/100, Total Reward: 32.991186348055706\n",
            "Test Episode 19/100, Total Reward: 31.069763993285797\n",
            "Test Episode 20/100, Total Reward: 34.911007746149714\n",
            "Test Episode 21/100, Total Reward: 37.34495507045031\n",
            "Test Episode 22/100, Total Reward: 31.438104494219225\n",
            "Test Episode 23/100, Total Reward: 30.278212087922924\n",
            "Test Episode 24/100, Total Reward: 26.878797617747225\n",
            "Test Episode 25/100, Total Reward: 21.483318084171223\n",
            "Test Episode 26/100, Total Reward: 27.26522261331795\n",
            "Test Episode 27/100, Total Reward: 19.308575077020002\n",
            "Test Episode 28/100, Total Reward: 36.35601646041517\n",
            "Test Episode 29/100, Total Reward: 25.77701568394693\n",
            "Test Episode 30/100, Total Reward: 32.548605053729894\n",
            "Test Episode 31/100, Total Reward: 33.50448930126618\n",
            "Test Episode 32/100, Total Reward: 29.494449560924153\n",
            "Test Episode 33/100, Total Reward: 32.66448925989264\n",
            "Test Episode 34/100, Total Reward: 25.36881241540768\n",
            "Test Episode 35/100, Total Reward: 28.445426033352753\n",
            "Test Episode 36/100, Total Reward: 27.645610469276345\n",
            "Test Episode 37/100, Total Reward: 19.920251273051846\n",
            "Test Episode 38/100, Total Reward: 29.271443522352044\n",
            "Test Episode 39/100, Total Reward: 34.68428638610386\n",
            "Test Episode 40/100, Total Reward: 22.497889775070533\n",
            "Test Episode 41/100, Total Reward: 26.042972800811818\n",
            "Test Episode 42/100, Total Reward: 25.15206070818912\n",
            "Test Episode 43/100, Total Reward: 28.05777938629349\n",
            "Test Episode 44/100, Total Reward: 22.531965941261795\n",
            "Test Episode 45/100, Total Reward: 27.96524168137467\n",
            "Test Episode 46/100, Total Reward: 29.736609719857206\n",
            "Test Episode 47/100, Total Reward: 31.303587041958068\n",
            "Test Episode 48/100, Total Reward: 22.567045031013475\n",
            "Test Episode 49/100, Total Reward: 30.701632594293386\n",
            "Test Episode 50/100, Total Reward: 31.16041833290668\n",
            "Test Episode 51/100, Total Reward: 29.6326004488999\n",
            "Test Episode 52/100, Total Reward: 27.939356609550657\n",
            "Test Episode 53/100, Total Reward: 34.11074359704396\n",
            "Test Episode 54/100, Total Reward: 23.237250195526688\n",
            "Test Episode 55/100, Total Reward: 32.46774750097229\n",
            "Test Episode 56/100, Total Reward: 28.331122517444744\n",
            "Test Episode 57/100, Total Reward: 26.26099054675643\n",
            "Test Episode 58/100, Total Reward: 29.850830904790925\n",
            "Test Episode 59/100, Total Reward: 32.892287945995314\n",
            "Test Episode 60/100, Total Reward: 31.49692650079621\n",
            "Test Episode 61/100, Total Reward: 31.426297736577688\n",
            "Test Episode 62/100, Total Reward: 28.191266993803232\n",
            "Test Episode 63/100, Total Reward: 30.050698225456696\n",
            "Test Episode 64/100, Total Reward: 23.319480833388408\n",
            "Test Episode 65/100, Total Reward: 30.141278808265035\n",
            "Test Episode 66/100, Total Reward: 32.24890223629609\n",
            "Test Episode 67/100, Total Reward: 27.520588815515843\n",
            "Test Episode 68/100, Total Reward: 33.70142620656298\n",
            "Test Episode 69/100, Total Reward: 33.97552838091779\n",
            "Test Episode 70/100, Total Reward: 26.305307558124188\n",
            "Test Episode 71/100, Total Reward: 30.36779490783697\n",
            "Test Episode 72/100, Total Reward: 32.33617374867932\n",
            "Test Episode 73/100, Total Reward: 27.86856781367904\n",
            "Test Episode 74/100, Total Reward: 29.67837860713636\n",
            "Test Episode 75/100, Total Reward: 31.483379457072704\n",
            "Test Episode 76/100, Total Reward: 23.615405556851304\n",
            "Test Episode 77/100, Total Reward: 24.745395864259567\n",
            "Test Episode 78/100, Total Reward: 30.761253225780198\n",
            "Test Episode 79/100, Total Reward: 31.748899690972365\n",
            "Test Episode 80/100, Total Reward: 23.23540387270789\n",
            "Test Episode 81/100, Total Reward: 30.33764723410158\n",
            "Test Episode 82/100, Total Reward: 29.304443965649664\n",
            "Test Episode 83/100, Total Reward: 28.61893664874724\n",
            "Test Episode 84/100, Total Reward: 30.862672601374044\n",
            "Test Episode 85/100, Total Reward: 33.51991783913731\n",
            "Test Episode 86/100, Total Reward: 27.585555793039344\n",
            "Test Episode 87/100, Total Reward: 24.00816810300554\n",
            "Test Episode 88/100, Total Reward: 34.286672732433004\n",
            "Test Episode 89/100, Total Reward: 29.197724637014673\n",
            "Test Episode 90/100, Total Reward: 30.68432758732444\n",
            "Test Episode 91/100, Total Reward: 19.448844744565086\n",
            "Test Episode 92/100, Total Reward: 33.6711100031937\n",
            "Test Episode 93/100, Total Reward: 34.358485168032814\n",
            "Test Episode 94/100, Total Reward: 30.679662486243927\n",
            "Test Episode 95/100, Total Reward: 34.45364458018442\n",
            "Test Episode 96/100, Total Reward: 32.74998919573131\n",
            "Test Episode 97/100, Total Reward: 32.05643184038125\n",
            "Test Episode 98/100, Total Reward: 29.675578525971233\n",
            "Test Episode 99/100, Total Reward: 28.503298859280907\n",
            "Test Episode 100/100, Total Reward: 29.45667300444435\n"
          ]
        }
      ],
      "source": [
        "#model = torch.load(\"Probability07.pth\")\n",
        "#test_07_rewards = test_dqn_model(model, env_test, TEST_EPOCHS)\n",
        "test_07_rewards = test_dqn(agent_07, env_test, TEST_EPOCHS)"
      ],
      "id": "13af08e6"
    },
    {
      "cell_type": "code",
      "execution_count": 116,
      "metadata": {
        "id": "300372d6",
        "outputId": "53eef100-1716-48f5-c557-c3d83cb1bd39",
        "colab": {
          "base_uri": "https://localhost:8080/"
        }
      },
      "outputs": [
        {
          "output_type": "stream",
          "name": "stderr",
          "text": [
            "<ipython-input-14-85c251d2ca30>:16: UserWarning: To copy construct from a tensor, it is recommended to use sourceTensor.clone().detach() or sourceTensor.clone().detach().requires_grad_(True), rather than torch.tensor(sourceTensor).\n",
            "  state = torch.tensor(state, dtype=torch.float32).to(device)\n"
          ]
        },
        {
          "output_type": "stream",
          "name": "stdout",
          "text": [
            "Test Episode 1/100, Total Reward: 30.785231919312658\n",
            "Test Episode 2/100, Total Reward: 27.697821263786615\n",
            "Test Episode 3/100, Total Reward: 31.28437802944569\n",
            "Test Episode 4/100, Total Reward: 31.0529306507241\n",
            "Test Episode 5/100, Total Reward: 26.38881241846649\n",
            "Test Episode 6/100, Total Reward: 25.28492377933027\n",
            "Test Episode 7/100, Total Reward: 21.97201391354523\n",
            "Test Episode 8/100, Total Reward: 22.31107721368507\n",
            "Test Episode 9/100, Total Reward: 33.99361169174179\n",
            "Test Episode 10/100, Total Reward: 30.254285028541826\n",
            "Test Episode 11/100, Total Reward: 28.133876420473257\n",
            "Test Episode 12/100, Total Reward: 20.33572219575857\n",
            "Test Episode 13/100, Total Reward: 32.73169344564947\n",
            "Test Episode 14/100, Total Reward: 33.23192113034486\n",
            "Test Episode 15/100, Total Reward: 23.996784908742608\n",
            "Test Episode 16/100, Total Reward: 33.51165423055488\n",
            "Test Episode 17/100, Total Reward: 24.992779375169725\n",
            "Test Episode 18/100, Total Reward: 29.327516856860896\n",
            "Test Episode 19/100, Total Reward: 31.729204367711553\n",
            "Test Episode 20/100, Total Reward: 26.61532034571199\n",
            "Test Episode 21/100, Total Reward: 27.824166336637752\n",
            "Test Episode 22/100, Total Reward: 31.49157063355067\n",
            "Test Episode 23/100, Total Reward: 29.355029357233807\n",
            "Test Episode 24/100, Total Reward: 37.232372278669075\n",
            "Test Episode 25/100, Total Reward: 25.28663551466807\n",
            "Test Episode 26/100, Total Reward: 30.645833244265972\n",
            "Test Episode 27/100, Total Reward: 36.244401156435316\n",
            "Test Episode 28/100, Total Reward: 30.783133076581972\n",
            "Test Episode 29/100, Total Reward: 30.423981266749703\n",
            "Test Episode 30/100, Total Reward: 25.447237582941447\n",
            "Test Episode 31/100, Total Reward: 27.9493261052768\n",
            "Test Episode 32/100, Total Reward: 27.93622317579511\n",
            "Test Episode 33/100, Total Reward: 21.074543260643324\n",
            "Test Episode 34/100, Total Reward: 23.82472930417755\n",
            "Test Episode 35/100, Total Reward: 29.351994667151875\n",
            "Test Episode 36/100, Total Reward: 31.772109039857416\n",
            "Test Episode 37/100, Total Reward: 22.434893885311688\n",
            "Test Episode 38/100, Total Reward: 34.115090626148465\n",
            "Test Episode 39/100, Total Reward: 30.032624990836744\n",
            "Test Episode 40/100, Total Reward: 29.12183483100135\n",
            "Test Episode 41/100, Total Reward: 17.946512898396577\n",
            "Test Episode 42/100, Total Reward: 30.516485313657764\n",
            "Test Episode 43/100, Total Reward: 30.9628370989828\n",
            "Test Episode 44/100, Total Reward: 28.460827025061803\n",
            "Test Episode 45/100, Total Reward: 28.986939858606164\n",
            "Test Episode 46/100, Total Reward: 26.218435549679498\n",
            "Test Episode 47/100, Total Reward: 27.201791709477018\n",
            "Test Episode 48/100, Total Reward: 21.349694042959264\n",
            "Test Episode 49/100, Total Reward: 31.823004349606048\n",
            "Test Episode 50/100, Total Reward: 29.043466491239073\n",
            "Test Episode 51/100, Total Reward: 29.31672764368838\n",
            "Test Episode 52/100, Total Reward: 32.5285538289468\n",
            "Test Episode 53/100, Total Reward: 32.033281227559115\n",
            "Test Episode 54/100, Total Reward: 26.86442130662195\n",
            "Test Episode 55/100, Total Reward: 19.290780139234332\n",
            "Test Episode 56/100, Total Reward: 28.400837725967087\n",
            "Test Episode 57/100, Total Reward: 28.961533046075097\n",
            "Test Episode 58/100, Total Reward: 20.293634315493748\n",
            "Test Episode 59/100, Total Reward: 28.65101053654459\n",
            "Test Episode 60/100, Total Reward: 28.74056786446456\n",
            "Test Episode 61/100, Total Reward: 24.982401245331022\n",
            "Test Episode 62/100, Total Reward: 29.206894094908233\n",
            "Test Episode 63/100, Total Reward: 25.733009802427958\n",
            "Test Episode 64/100, Total Reward: 27.96959745961565\n",
            "Test Episode 65/100, Total Reward: 24.971352992753044\n",
            "Test Episode 66/100, Total Reward: 27.544250366897703\n",
            "Test Episode 67/100, Total Reward: 33.01062449913187\n",
            "Test Episode 68/100, Total Reward: 16.93728622860384\n",
            "Test Episode 69/100, Total Reward: 30.135320195592154\n",
            "Test Episode 70/100, Total Reward: 25.748218187442586\n",
            "Test Episode 71/100, Total Reward: 31.80473390152364\n",
            "Test Episode 72/100, Total Reward: 25.83393224581332\n",
            "Test Episode 73/100, Total Reward: 34.05645590746748\n",
            "Test Episode 74/100, Total Reward: 29.362351579802162\n",
            "Test Episode 75/100, Total Reward: 28.640450657868712\n",
            "Test Episode 76/100, Total Reward: 25.218832020080438\n",
            "Test Episode 77/100, Total Reward: 26.155935541399202\n",
            "Test Episode 78/100, Total Reward: 27.625773889477383\n",
            "Test Episode 79/100, Total Reward: 26.3087534767263\n",
            "Test Episode 80/100, Total Reward: 30.0833887899213\n",
            "Test Episode 81/100, Total Reward: 27.379177813601395\n",
            "Test Episode 82/100, Total Reward: 31.333284590662853\n",
            "Test Episode 83/100, Total Reward: 30.60567482801876\n",
            "Test Episode 84/100, Total Reward: 30.507457354472184\n",
            "Test Episode 85/100, Total Reward: 29.908811446191958\n",
            "Test Episode 86/100, Total Reward: 29.849417352622787\n",
            "Test Episode 87/100, Total Reward: 30.04969928251667\n",
            "Test Episode 88/100, Total Reward: 22.176240100294937\n",
            "Test Episode 89/100, Total Reward: 25.924798500014663\n",
            "Test Episode 90/100, Total Reward: 29.24222997917808\n",
            "Test Episode 91/100, Total Reward: 31.47719070082608\n",
            "Test Episode 92/100, Total Reward: 30.84716827384141\n",
            "Test Episode 93/100, Total Reward: 28.652596156648993\n",
            "Test Episode 94/100, Total Reward: 33.26163492117393\n",
            "Test Episode 95/100, Total Reward: 18.706435365165106\n",
            "Test Episode 96/100, Total Reward: 30.577253603388776\n",
            "Test Episode 97/100, Total Reward: 27.760698941837738\n",
            "Test Episode 98/100, Total Reward: 27.557472709532977\n",
            "Test Episode 99/100, Total Reward: 28.940488039145304\n",
            "Test Episode 100/100, Total Reward: 31.06259220506825\n"
          ]
        }
      ],
      "source": [
        "#model = torch.load(\"Probability08.pth\")\n",
        "#test_08_rewards = test_dqn_model(model, env_test, TEST_EPOCHS)\n",
        "test_08_rewards = test_dqn(agent_08, env_test, TEST_EPOCHS)"
      ],
      "id": "300372d6"
    },
    {
      "cell_type": "code",
      "execution_count": 117,
      "metadata": {
        "id": "fe3f1eb8",
        "outputId": "64e7eba4-8782-40d8-a39f-7bcd34bb9072",
        "colab": {
          "base_uri": "https://localhost:8080/",
          "height": 422
        }
      },
      "outputs": [
        {
          "output_type": "display_data",
          "data": {
            "text/plain": [
              "<Figure size 1600x600 with 1 Axes>"
            ],
            "image/png": "[encoded data removed]"
          },
          "metadata": {}
        }
      ],
      "source": [
        "import matplotlib.pyplot as plt\n",
        "\n",
        "rewards_list = [\n",
        "    test_04_rewards,\n",
        "    test_05_rewards,\n",
        "    test_06_rewards,\n",
        "    test_07_rewards,\n",
        "    test_08_rewards\n",
        "]\n",
        "name_list = [\n",
        "    \"probability = 0.4\",\n",
        "    \"probability = 0.5\",\n",
        "    \"probability = 0.6\",\n",
        "    \"probability = 0.7\",\n",
        "    \"probability = 0.8\"\n",
        "]\n",
        "\n",
        "# Define colors for each line\n",
        "colors = ['red', 'blue', 'green', 'orange', 'purple']\n",
        "\n",
        "# Create the line graph\n",
        "plt.figure(figsize=(16, 6))\n",
        "\n",
        "for i in range(len(rewards_list)):\n",
        "    plt.plot(range(len(rewards_list[i])), rewards_list[i], label=name_list[i], color=colors[i])\n",
        "\n",
        "plt.xlabel('Episode')\n",
        "plt.ylabel('Reward')\n",
        "plt.title('Rewards for Different Probability Values')\n",
        "plt.legend()\n",
        "plt.grid(True)\n",
        "plt.show()"
      ],
      "id": "fe3f1eb8"
    },
    {
      "cell_type": "code",
      "execution_count": 118,
      "metadata": {
        "id": "2d1d0cac"
      },
      "outputs": [],
      "source": [
        "import pandas as pd\n",
        "# Create a DataFrame using the rewards list and name list\n",
        "data = pd.DataFrame(rewards_list, index=name_list)\n",
        "\n",
        "# Transpose the DataFrame to have the name list as columns\n",
        "data = data.T\n",
        "\n",
        "# Save the DataFrame to an Excel file\n",
        "data.to_excel('rewards_probability.xlsx', index=False)"
      ],
      "id": "2d1d0cac"
    },
    {
      "cell_type": "code",
      "execution_count": 119,
      "metadata": {
        "id": "2c3fc24f"
      },
      "outputs": [],
      "source": [
        "test_reward_mean_04 = np.mean(test_04_rewards)\n",
        "test_reward_mean_05 = np.mean(test_05_rewards)\n",
        "test_reward_mean_06 = np.mean(test_06_rewards)\n",
        "test_reward_mean_07 = np.mean(test_07_rewards)\n",
        "test_reward_mean_08 = np.mean(test_08_rewards)"
      ],
      "id": "2c3fc24f"
    },
    {
      "cell_type": "code",
      "source": [
        "mean_list = [test_reward_mean_04, test_reward_mean_05, test_reward_mean_06,\n",
        "             test_reward_mean_07, test_reward_mean_08]"
      ],
      "metadata": {
        "id": "qimI8k6qoQ8v"
      },
      "id": "qimI8k6qoQ8v",
      "execution_count": 120,
      "outputs": []
    },
    {
      "cell_type": "code",
      "source": [
        "mean_list"
      ],
      "metadata": {
        "colab": {
          "base_uri": "https://localhost:8080/"
        },
        "id": "xiYZLqDtonWv",
        "outputId": "88ed25b0-b852-45d0-8193-7bef3a075e5c"
      },
      "id": "xiYZLqDtonWv",
      "execution_count": 121,
      "outputs": [
        {
          "output_type": "execute_result",
          "data": {
            "text/plain": [
              "[28.621929765292133,\n",
              " 26.936053437155113,\n",
              " 26.22436491459932,\n",
              " 29.360456319346522,\n",
              " 28.2272051673874]"
            ]
          },
          "metadata": {},
          "execution_count": 121
        }
      ]
    }
  ],
  "metadata": {
    "accelerator": "GPU",
    "colab": {
      "machine_shape": "hm",
      "provenance": [],
      "gpuType": "A100"
    },
    "kernelspec": {
      "display_name": "Python 3",
      "name": "python3"
    },
    "language_info": {
      "codemirror_mode": {
        "name": "ipython",
        "version": 3
      },
      "file_extension": ".py",
      "mimetype": "text/x-python",
      "name": "python",
      "nbconvert_exporter": "python",
      "pygments_lexer": "ipython3",
      "version": "3.9.16"
    }
  },
  "nbformat": 4,
  "nbformat_minor": 5
}